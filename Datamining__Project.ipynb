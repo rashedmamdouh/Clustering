{
 "cells": [
  {
   "cell_type": "markdown",
   "metadata": {},
   "source": [
    "# Imports"
   ]
  },
  {
   "cell_type": "code",
   "execution_count": 1,
   "metadata": {},
   "outputs": [],
   "source": [
    "import matplotlib.pyplot as plt\n",
    "import numpy as np\n",
    "import pandas as pd\n",
    "import scipy.cluster.hierarchy as dg\n",
    "from sklearn.cluster import AgglomerativeClustering\n",
    "from sklearn_extra.cluster import KMedoids\n",
    "from sklearn.naive_bayes import GaussianNB\n",
    "from sklearn.model_selection import train_test_split\n",
    "from sklearn.metrics import confusion_matrix\n",
    "import seaborn as sns"
   ]
  },
  {
   "cell_type": "markdown",
   "metadata": {},
   "source": [
    "# <font color='red'>Read Data</font>"
   ]
  },
  {
   "cell_type": "code",
   "execution_count": 2,
   "metadata": {},
   "outputs": [
    {
     "data": {
      "text/html": [
       "<div>\n",
       "<style scoped>\n",
       "    .dataframe tbody tr th:only-of-type {\n",
       "        vertical-align: middle;\n",
       "    }\n",
       "\n",
       "    .dataframe tbody tr th {\n",
       "        vertical-align: top;\n",
       "    }\n",
       "\n",
       "    .dataframe thead th {\n",
       "        text-align: right;\n",
       "    }\n",
       "</style>\n",
       "<table border=\"1\" class=\"dataframe\">\n",
       "  <thead>\n",
       "    <tr style=\"text-align: right;\">\n",
       "      <th></th>\n",
       "      <th>Alcohol</th>\n",
       "      <th>Malic_Acid</th>\n",
       "      <th>Ash</th>\n",
       "      <th>Ash_Alcanity</th>\n",
       "      <th>Magnesium</th>\n",
       "      <th>Total_Phenols</th>\n",
       "      <th>Flavanoids</th>\n",
       "      <th>Nonflavanoid_Phenols</th>\n",
       "      <th>Proanthocyanins</th>\n",
       "      <th>Color_Intensity</th>\n",
       "      <th>Hue</th>\n",
       "      <th>OD280</th>\n",
       "      <th>Proline</th>\n",
       "    </tr>\n",
       "  </thead>\n",
       "  <tbody>\n",
       "    <tr>\n",
       "      <th>0</th>\n",
       "      <td>14.83</td>\n",
       "      <td>1.64</td>\n",
       "      <td>2.17</td>\n",
       "      <td>14.0</td>\n",
       "      <td>97.0</td>\n",
       "      <td>2.80</td>\n",
       "      <td>2.98</td>\n",
       "      <td>0.29</td>\n",
       "      <td>1.98</td>\n",
       "      <td>5.20</td>\n",
       "      <td>1.08</td>\n",
       "      <td>2.85</td>\n",
       "      <td>1045</td>\n",
       "    </tr>\n",
       "    <tr>\n",
       "      <th>1</th>\n",
       "      <td>14.75</td>\n",
       "      <td>1.73</td>\n",
       "      <td>2.39</td>\n",
       "      <td>11.4</td>\n",
       "      <td>91.0</td>\n",
       "      <td>3.10</td>\n",
       "      <td>3.69</td>\n",
       "      <td>0.43</td>\n",
       "      <td>2.81</td>\n",
       "      <td>5.40</td>\n",
       "      <td>1.25</td>\n",
       "      <td>2.73</td>\n",
       "      <td>1150</td>\n",
       "    </tr>\n",
       "    <tr>\n",
       "      <th>2</th>\n",
       "      <td>14.39</td>\n",
       "      <td>1.87</td>\n",
       "      <td>2.45</td>\n",
       "      <td>14.6</td>\n",
       "      <td>96.0</td>\n",
       "      <td>2.50</td>\n",
       "      <td>2.52</td>\n",
       "      <td>0.30</td>\n",
       "      <td>1.98</td>\n",
       "      <td>5.25</td>\n",
       "      <td>1.02</td>\n",
       "      <td>3.58</td>\n",
       "      <td>1290</td>\n",
       "    </tr>\n",
       "    <tr>\n",
       "      <th>3</th>\n",
       "      <td>14.38</td>\n",
       "      <td>1.87</td>\n",
       "      <td>2.38</td>\n",
       "      <td>12.0</td>\n",
       "      <td>102.0</td>\n",
       "      <td>3.30</td>\n",
       "      <td>3.64</td>\n",
       "      <td>0.29</td>\n",
       "      <td>2.96</td>\n",
       "      <td>7.50</td>\n",
       "      <td>1.20</td>\n",
       "      <td>3.00</td>\n",
       "      <td>1547</td>\n",
       "    </tr>\n",
       "    <tr>\n",
       "      <th>4</th>\n",
       "      <td>14.38</td>\n",
       "      <td>3.59</td>\n",
       "      <td>2.28</td>\n",
       "      <td>16.0</td>\n",
       "      <td>102.0</td>\n",
       "      <td>3.25</td>\n",
       "      <td>3.17</td>\n",
       "      <td>0.27</td>\n",
       "      <td>2.19</td>\n",
       "      <td>4.90</td>\n",
       "      <td>1.04</td>\n",
       "      <td>3.44</td>\n",
       "      <td>1065</td>\n",
       "    </tr>\n",
       "    <tr>\n",
       "      <th>...</th>\n",
       "      <td>...</td>\n",
       "      <td>...</td>\n",
       "      <td>...</td>\n",
       "      <td>...</td>\n",
       "      <td>...</td>\n",
       "      <td>...</td>\n",
       "      <td>...</td>\n",
       "      <td>...</td>\n",
       "      <td>...</td>\n",
       "      <td>...</td>\n",
       "      <td>...</td>\n",
       "      <td>...</td>\n",
       "      <td>...</td>\n",
       "    </tr>\n",
       "    <tr>\n",
       "      <th>175</th>\n",
       "      <td>11.56</td>\n",
       "      <td>2.05</td>\n",
       "      <td>3.23</td>\n",
       "      <td>28.5</td>\n",
       "      <td>119.0</td>\n",
       "      <td>3.18</td>\n",
       "      <td>5.08</td>\n",
       "      <td>0.47</td>\n",
       "      <td>1.87</td>\n",
       "      <td>6.00</td>\n",
       "      <td>0.93</td>\n",
       "      <td>3.69</td>\n",
       "      <td>465</td>\n",
       "    </tr>\n",
       "    <tr>\n",
       "      <th>176</th>\n",
       "      <td>11.46</td>\n",
       "      <td>3.74</td>\n",
       "      <td>1.82</td>\n",
       "      <td>19.5</td>\n",
       "      <td>107.0</td>\n",
       "      <td>3.18</td>\n",
       "      <td>2.58</td>\n",
       "      <td>0.24</td>\n",
       "      <td>3.58</td>\n",
       "      <td>2.90</td>\n",
       "      <td>0.75</td>\n",
       "      <td>2.81</td>\n",
       "      <td>562</td>\n",
       "    </tr>\n",
       "    <tr>\n",
       "      <th>177</th>\n",
       "      <td>11.45</td>\n",
       "      <td>2.40</td>\n",
       "      <td>2.42</td>\n",
       "      <td>20.0</td>\n",
       "      <td>96.0</td>\n",
       "      <td>2.90</td>\n",
       "      <td>2.79</td>\n",
       "      <td>0.32</td>\n",
       "      <td>1.83</td>\n",
       "      <td>3.25</td>\n",
       "      <td>0.80</td>\n",
       "      <td>3.39</td>\n",
       "      <td>625</td>\n",
       "    </tr>\n",
       "    <tr>\n",
       "      <th>178</th>\n",
       "      <td>11.41</td>\n",
       "      <td>0.74</td>\n",
       "      <td>2.50</td>\n",
       "      <td>21.0</td>\n",
       "      <td>88.0</td>\n",
       "      <td>2.48</td>\n",
       "      <td>2.01</td>\n",
       "      <td>0.42</td>\n",
       "      <td>1.44</td>\n",
       "      <td>3.08</td>\n",
       "      <td>1.10</td>\n",
       "      <td>2.31</td>\n",
       "      <td>434</td>\n",
       "    </tr>\n",
       "    <tr>\n",
       "      <th>179</th>\n",
       "      <td>11.03</td>\n",
       "      <td>1.51</td>\n",
       "      <td>2.20</td>\n",
       "      <td>21.5</td>\n",
       "      <td>85.0</td>\n",
       "      <td>2.46</td>\n",
       "      <td>2.17</td>\n",
       "      <td>0.52</td>\n",
       "      <td>2.01</td>\n",
       "      <td>1.90</td>\n",
       "      <td>1.71</td>\n",
       "      <td>2.87</td>\n",
       "      <td>407</td>\n",
       "    </tr>\n",
       "  </tbody>\n",
       "</table>\n",
       "<p>180 rows × 13 columns</p>\n",
       "</div>"
      ],
      "text/plain": [
       "     Alcohol  Malic_Acid   Ash  Ash_Alcanity  Magnesium  Total_Phenols  \\\n",
       "0      14.83        1.64  2.17          14.0       97.0           2.80   \n",
       "1      14.75        1.73  2.39          11.4       91.0           3.10   \n",
       "2      14.39        1.87  2.45          14.6       96.0           2.50   \n",
       "3      14.38        1.87  2.38          12.0      102.0           3.30   \n",
       "4      14.38        3.59  2.28          16.0      102.0           3.25   \n",
       "..       ...         ...   ...           ...        ...            ...   \n",
       "175    11.56        2.05  3.23          28.5      119.0           3.18   \n",
       "176    11.46        3.74  1.82          19.5      107.0           3.18   \n",
       "177    11.45        2.40  2.42          20.0       96.0           2.90   \n",
       "178    11.41        0.74  2.50          21.0       88.0           2.48   \n",
       "179    11.03        1.51  2.20          21.5       85.0           2.46   \n",
       "\n",
       "     Flavanoids  Nonflavanoid_Phenols  Proanthocyanins  Color_Intensity   Hue  \\\n",
       "0          2.98                  0.29             1.98             5.20  1.08   \n",
       "1          3.69                  0.43             2.81             5.40  1.25   \n",
       "2          2.52                  0.30             1.98             5.25  1.02   \n",
       "3          3.64                  0.29             2.96             7.50  1.20   \n",
       "4          3.17                  0.27             2.19             4.90  1.04   \n",
       "..          ...                   ...              ...              ...   ...   \n",
       "175        5.08                  0.47             1.87             6.00  0.93   \n",
       "176        2.58                  0.24             3.58             2.90  0.75   \n",
       "177        2.79                  0.32             1.83             3.25  0.80   \n",
       "178        2.01                  0.42             1.44             3.08  1.10   \n",
       "179        2.17                  0.52             2.01             1.90  1.71   \n",
       "\n",
       "     OD280  Proline  \n",
       "0     2.85     1045  \n",
       "1     2.73     1150  \n",
       "2     3.58     1290  \n",
       "3     3.00     1547  \n",
       "4     3.44     1065  \n",
       "..     ...      ...  \n",
       "175   3.69      465  \n",
       "176   2.81      562  \n",
       "177   3.39      625  \n",
       "178   2.31      434  \n",
       "179   2.87      407  \n",
       "\n",
       "[180 rows x 13 columns]"
      ]
     },
     "execution_count": 2,
     "metadata": {},
     "output_type": "execute_result"
    }
   ],
   "source": [
    "file=pd.read_csv(\"medicines_unclean.csv\")\n",
    "file"
   ]
  },
  {
   "cell_type": "markdown",
   "metadata": {},
   "source": [
    "# <font color='red'>Data Cleaning</font>"
   ]
  },
  {
   "cell_type": "code",
   "execution_count": 3,
   "metadata": {},
   "outputs": [
    {
     "name": "stdout",
     "output_type": "stream",
     "text": [
      "(180, 13)\n"
     ]
    },
    {
     "data": {
      "text/plain": [
       "(174, 13)"
      ]
     },
     "execution_count": 3,
     "metadata": {},
     "output_type": "execute_result"
    }
   ],
   "source": [
    "print(file.shape)\n",
    "file=file.drop_duplicates()\n",
    "file.shape"
   ]
  },
  {
   "cell_type": "code",
   "execution_count": 4,
   "metadata": {},
   "outputs": [
    {
     "name": "stdout",
     "output_type": "stream",
     "text": [
      "Alcohol                  True\n",
      "Malic_Acid              False\n",
      "Ash                      True\n",
      "Ash_Alcanity            False\n",
      "Magnesium                True\n",
      "Total_Phenols            True\n",
      "Flavanoids              False\n",
      "Nonflavanoid_Phenols    False\n",
      "Proanthocyanins          True\n",
      "Color_Intensity         False\n",
      "Hue                     False\n",
      "OD280                    True\n",
      "Proline                 False\n",
      "dtype: bool\n"
     ]
    },
    {
     "data": {
      "text/plain": [
       "Alcohol                 1\n",
       "Malic_Acid              0\n",
       "Ash                     1\n",
       "Ash_Alcanity            0\n",
       "Magnesium               1\n",
       "Total_Phenols           1\n",
       "Flavanoids              0\n",
       "Nonflavanoid_Phenols    0\n",
       "Proanthocyanins         1\n",
       "Color_Intensity         0\n",
       "Hue                     0\n",
       "OD280                   1\n",
       "Proline                 0\n",
       "dtype: int64"
      ]
     },
     "execution_count": 4,
     "metadata": {},
     "output_type": "execute_result"
    }
   ],
   "source": [
    "print(file.isnull().any())\n",
    "file.isnull().sum()"
   ]
  },
  {
   "cell_type": "code",
   "execution_count": 5,
   "metadata": {},
   "outputs": [],
   "source": [
    "def clean (file):\n",
    "    n=int(input(\"Enter 1: fill missing value with mean\\nEnter 2: fill missing value with number you choose it\\nEnter 3: drop the row containing a missing value\"))\n",
    "    if n==1: #fill missing value with mean\n",
    "        for i in range (0,file.shape[1]):\n",
    "            mean=file.iloc[:,i].mean()\n",
    "            file.iloc[:,i] = file.iloc[:,i].fillna(mean)\n",
    "    elif n==2: #fill missing value with number you choose it\n",
    "        nn=float(input(\"enter the number\"))\n",
    "        file = file.fillna(nn)\n",
    "    elif n==3: #drop the row containing a missing value1\n",
    "        file = file.dropna()\n",
    "    else:\n",
    "        print(\"not defined\")\n",
    "    return file   "
   ]
  },
  {
   "cell_type": "code",
   "execution_count": 6,
   "metadata": {},
   "outputs": [
    {
     "name": "stdout",
     "output_type": "stream",
     "text": [
      "Enter 1: fill missing value with mean\n",
      "Enter 2: fill missing value with number you choose it\n",
      "Enter 3: drop the row containing a missing value1\n"
     ]
    },
    {
     "name": "stderr",
     "output_type": "stream",
     "text": [
      "C:\\Users\\spide\\anaconda3\\lib\\site-packages\\pandas\\core\\indexing.py:1773: SettingWithCopyWarning: \n",
      "A value is trying to be set on a copy of a slice from a DataFrame.\n",
      "Try using .loc[row_indexer,col_indexer] = value instead\n",
      "\n",
      "See the caveats in the documentation: https://pandas.pydata.org/pandas-docs/stable/user_guide/indexing.html#returning-a-view-versus-a-copy\n",
      "  self._setitem_single_column(ilocs[0], value, pi)\n"
     ]
    },
    {
     "data": {
      "text/plain": [
       "Alcohol                 0\n",
       "Malic_Acid              0\n",
       "Ash                     0\n",
       "Ash_Alcanity            0\n",
       "Magnesium               0\n",
       "Total_Phenols           0\n",
       "Flavanoids              0\n",
       "Nonflavanoid_Phenols    0\n",
       "Proanthocyanins         0\n",
       "Color_Intensity         0\n",
       "Hue                     0\n",
       "OD280                   0\n",
       "Proline                 0\n",
       "dtype: int64"
      ]
     },
     "execution_count": 6,
     "metadata": {},
     "output_type": "execute_result"
    }
   ],
   "source": [
    "file=clean(file)\n",
    "file.isnull().sum()"
   ]
  },
  {
   "cell_type": "markdown",
   "metadata": {},
   "source": [
    "# <font color='red'>Data Visualization</font>"
   ]
  },
  {
   "cell_type": "code",
   "execution_count": 7,
   "metadata": {},
   "outputs": [
    {
     "data": {
      "text/html": [
       "<div>\n",
       "<style scoped>\n",
       "    .dataframe tbody tr th:only-of-type {\n",
       "        vertical-align: middle;\n",
       "    }\n",
       "\n",
       "    .dataframe tbody tr th {\n",
       "        vertical-align: top;\n",
       "    }\n",
       "\n",
       "    .dataframe thead th {\n",
       "        text-align: right;\n",
       "    }\n",
       "</style>\n",
       "<table border=\"1\" class=\"dataframe\">\n",
       "  <thead>\n",
       "    <tr style=\"text-align: right;\">\n",
       "      <th></th>\n",
       "      <th>Alcohol</th>\n",
       "      <th>Malic_Acid</th>\n",
       "      <th>Ash</th>\n",
       "      <th>Ash_Alcanity</th>\n",
       "      <th>Magnesium</th>\n",
       "      <th>Total_Phenols</th>\n",
       "      <th>Flavanoids</th>\n",
       "      <th>Nonflavanoid_Phenols</th>\n",
       "      <th>Proanthocyanins</th>\n",
       "      <th>Color_Intensity</th>\n",
       "      <th>Hue</th>\n",
       "      <th>OD280</th>\n",
       "      <th>Proline</th>\n",
       "    </tr>\n",
       "  </thead>\n",
       "  <tbody>\n",
       "    <tr>\n",
       "      <th>0</th>\n",
       "      <td>14.83</td>\n",
       "      <td>1.64</td>\n",
       "      <td>2.17</td>\n",
       "      <td>14.0</td>\n",
       "      <td>97.0</td>\n",
       "      <td>2.80</td>\n",
       "      <td>2.98</td>\n",
       "      <td>0.29</td>\n",
       "      <td>1.98</td>\n",
       "      <td>5.20</td>\n",
       "      <td>1.08</td>\n",
       "      <td>2.85</td>\n",
       "      <td>1045</td>\n",
       "    </tr>\n",
       "    <tr>\n",
       "      <th>1</th>\n",
       "      <td>14.75</td>\n",
       "      <td>1.73</td>\n",
       "      <td>2.39</td>\n",
       "      <td>11.4</td>\n",
       "      <td>91.0</td>\n",
       "      <td>3.10</td>\n",
       "      <td>3.69</td>\n",
       "      <td>0.43</td>\n",
       "      <td>2.81</td>\n",
       "      <td>5.40</td>\n",
       "      <td>1.25</td>\n",
       "      <td>2.73</td>\n",
       "      <td>1150</td>\n",
       "    </tr>\n",
       "    <tr>\n",
       "      <th>2</th>\n",
       "      <td>14.39</td>\n",
       "      <td>1.87</td>\n",
       "      <td>2.45</td>\n",
       "      <td>14.6</td>\n",
       "      <td>96.0</td>\n",
       "      <td>2.50</td>\n",
       "      <td>2.52</td>\n",
       "      <td>0.30</td>\n",
       "      <td>1.98</td>\n",
       "      <td>5.25</td>\n",
       "      <td>1.02</td>\n",
       "      <td>3.58</td>\n",
       "      <td>1290</td>\n",
       "    </tr>\n",
       "    <tr>\n",
       "      <th>3</th>\n",
       "      <td>14.38</td>\n",
       "      <td>1.87</td>\n",
       "      <td>2.38</td>\n",
       "      <td>12.0</td>\n",
       "      <td>102.0</td>\n",
       "      <td>3.30</td>\n",
       "      <td>3.64</td>\n",
       "      <td>0.29</td>\n",
       "      <td>2.96</td>\n",
       "      <td>7.50</td>\n",
       "      <td>1.20</td>\n",
       "      <td>3.00</td>\n",
       "      <td>1547</td>\n",
       "    </tr>\n",
       "    <tr>\n",
       "      <th>4</th>\n",
       "      <td>14.38</td>\n",
       "      <td>3.59</td>\n",
       "      <td>2.28</td>\n",
       "      <td>16.0</td>\n",
       "      <td>102.0</td>\n",
       "      <td>3.25</td>\n",
       "      <td>3.17</td>\n",
       "      <td>0.27</td>\n",
       "      <td>2.19</td>\n",
       "      <td>4.90</td>\n",
       "      <td>1.04</td>\n",
       "      <td>3.44</td>\n",
       "      <td>1065</td>\n",
       "    </tr>\n",
       "  </tbody>\n",
       "</table>\n",
       "</div>"
      ],
      "text/plain": [
       "   Alcohol  Malic_Acid   Ash  Ash_Alcanity  Magnesium  Total_Phenols  \\\n",
       "0    14.83        1.64  2.17          14.0       97.0           2.80   \n",
       "1    14.75        1.73  2.39          11.4       91.0           3.10   \n",
       "2    14.39        1.87  2.45          14.6       96.0           2.50   \n",
       "3    14.38        1.87  2.38          12.0      102.0           3.30   \n",
       "4    14.38        3.59  2.28          16.0      102.0           3.25   \n",
       "\n",
       "   Flavanoids  Nonflavanoid_Phenols  Proanthocyanins  Color_Intensity   Hue  \\\n",
       "0        2.98                  0.29             1.98             5.20  1.08   \n",
       "1        3.69                  0.43             2.81             5.40  1.25   \n",
       "2        2.52                  0.30             1.98             5.25  1.02   \n",
       "3        3.64                  0.29             2.96             7.50  1.20   \n",
       "4        3.17                  0.27             2.19             4.90  1.04   \n",
       "\n",
       "   OD280  Proline  \n",
       "0   2.85     1045  \n",
       "1   2.73     1150  \n",
       "2   3.58     1290  \n",
       "3   3.00     1547  \n",
       "4   3.44     1065  "
      ]
     },
     "execution_count": 7,
     "metadata": {},
     "output_type": "execute_result"
    }
   ],
   "source": [
    "file.head()"
   ]
  },
  {
   "cell_type": "code",
   "execution_count": 8,
   "metadata": {},
   "outputs": [
    {
     "name": "stdout",
     "output_type": "stream",
     "text": [
      "<class 'pandas.core.frame.DataFrame'>\n",
      "Int64Index: 174 entries, 0 to 179\n",
      "Data columns (total 13 columns):\n",
      " #   Column                Non-Null Count  Dtype  \n",
      "---  ------                --------------  -----  \n",
      " 0   Alcohol               174 non-null    float64\n",
      " 1   Malic_Acid            174 non-null    float64\n",
      " 2   Ash                   174 non-null    float64\n",
      " 3   Ash_Alcanity          174 non-null    float64\n",
      " 4   Magnesium             174 non-null    float64\n",
      " 5   Total_Phenols         174 non-null    float64\n",
      " 6   Flavanoids            174 non-null    float64\n",
      " 7   Nonflavanoid_Phenols  174 non-null    float64\n",
      " 8   Proanthocyanins       174 non-null    float64\n",
      " 9   Color_Intensity       174 non-null    float64\n",
      " 10  Hue                   174 non-null    float64\n",
      " 11  OD280                 174 non-null    float64\n",
      " 12  Proline               174 non-null    int64  \n",
      "dtypes: float64(12), int64(1)\n",
      "memory usage: 19.0 KB\n"
     ]
    }
   ],
   "source": [
    "file.info()"
   ]
  },
  {
   "cell_type": "code",
   "execution_count": 9,
   "metadata": {},
   "outputs": [
    {
     "data": {
      "text/html": [
       "<div>\n",
       "<style scoped>\n",
       "    .dataframe tbody tr th:only-of-type {\n",
       "        vertical-align: middle;\n",
       "    }\n",
       "\n",
       "    .dataframe tbody tr th {\n",
       "        vertical-align: top;\n",
       "    }\n",
       "\n",
       "    .dataframe thead th {\n",
       "        text-align: right;\n",
       "    }\n",
       "</style>\n",
       "<table border=\"1\" class=\"dataframe\">\n",
       "  <thead>\n",
       "    <tr style=\"text-align: right;\">\n",
       "      <th></th>\n",
       "      <th>count</th>\n",
       "      <th>mean</th>\n",
       "      <th>std</th>\n",
       "      <th>min</th>\n",
       "      <th>25%</th>\n",
       "      <th>50%</th>\n",
       "      <th>75%</th>\n",
       "      <th>max</th>\n",
       "    </tr>\n",
       "  </thead>\n",
       "  <tbody>\n",
       "    <tr>\n",
       "      <th>Alcohol</th>\n",
       "      <td>174.0</td>\n",
       "      <td>13.009711</td>\n",
       "      <td>0.806063</td>\n",
       "      <td>11.03</td>\n",
       "      <td>12.3700</td>\n",
       "      <td>13.050</td>\n",
       "      <td>13.6700</td>\n",
       "      <td>14.83</td>\n",
       "    </tr>\n",
       "    <tr>\n",
       "      <th>Malic_Acid</th>\n",
       "      <td>174.0</td>\n",
       "      <td>2.359598</td>\n",
       "      <td>1.118379</td>\n",
       "      <td>0.74</td>\n",
       "      <td>1.6100</td>\n",
       "      <td>1.875</td>\n",
       "      <td>3.1150</td>\n",
       "      <td>5.80</td>\n",
       "    </tr>\n",
       "    <tr>\n",
       "      <th>Ash</th>\n",
       "      <td>174.0</td>\n",
       "      <td>2.366243</td>\n",
       "      <td>0.273714</td>\n",
       "      <td>1.36</td>\n",
       "      <td>2.2100</td>\n",
       "      <td>2.360</td>\n",
       "      <td>2.5475</td>\n",
       "      <td>3.23</td>\n",
       "    </tr>\n",
       "    <tr>\n",
       "      <th>Ash_Alcanity</th>\n",
       "      <td>174.0</td>\n",
       "      <td>19.483333</td>\n",
       "      <td>3.352578</td>\n",
       "      <td>10.60</td>\n",
       "      <td>17.1250</td>\n",
       "      <td>19.500</td>\n",
       "      <td>21.5000</td>\n",
       "      <td>30.00</td>\n",
       "    </tr>\n",
       "    <tr>\n",
       "      <th>Magnesium</th>\n",
       "      <td>174.0</td>\n",
       "      <td>99.797688</td>\n",
       "      <td>14.123714</td>\n",
       "      <td>70.00</td>\n",
       "      <td>88.0000</td>\n",
       "      <td>98.000</td>\n",
       "      <td>107.0000</td>\n",
       "      <td>162.00</td>\n",
       "    </tr>\n",
       "    <tr>\n",
       "      <th>Total_Phenols</th>\n",
       "      <td>174.0</td>\n",
       "      <td>2.296763</td>\n",
       "      <td>0.629323</td>\n",
       "      <td>0.98</td>\n",
       "      <td>1.7425</td>\n",
       "      <td>2.380</td>\n",
       "      <td>2.8000</td>\n",
       "      <td>3.88</td>\n",
       "    </tr>\n",
       "    <tr>\n",
       "      <th>Flavanoids</th>\n",
       "      <td>174.0</td>\n",
       "      <td>2.023103</td>\n",
       "      <td>1.008110</td>\n",
       "      <td>0.34</td>\n",
       "      <td>1.1250</td>\n",
       "      <td>2.120</td>\n",
       "      <td>2.8875</td>\n",
       "      <td>5.08</td>\n",
       "    </tr>\n",
       "    <tr>\n",
       "      <th>Nonflavanoid_Phenols</th>\n",
       "      <td>174.0</td>\n",
       "      <td>0.361897</td>\n",
       "      <td>0.124906</td>\n",
       "      <td>0.13</td>\n",
       "      <td>0.2700</td>\n",
       "      <td>0.340</td>\n",
       "      <td>0.4375</td>\n",
       "      <td>0.66</td>\n",
       "    </tr>\n",
       "    <tr>\n",
       "      <th>Proanthocyanins</th>\n",
       "      <td>174.0</td>\n",
       "      <td>1.590116</td>\n",
       "      <td>0.571402</td>\n",
       "      <td>0.41</td>\n",
       "      <td>1.2500</td>\n",
       "      <td>1.555</td>\n",
       "      <td>1.9500</td>\n",
       "      <td>3.58</td>\n",
       "    </tr>\n",
       "    <tr>\n",
       "      <th>Color_Intensity</th>\n",
       "      <td>174.0</td>\n",
       "      <td>5.091782</td>\n",
       "      <td>2.326917</td>\n",
       "      <td>1.28</td>\n",
       "      <td>3.2500</td>\n",
       "      <td>4.750</td>\n",
       "      <td>6.2375</td>\n",
       "      <td>13.00</td>\n",
       "    </tr>\n",
       "    <tr>\n",
       "      <th>Hue</th>\n",
       "      <td>174.0</td>\n",
       "      <td>0.955552</td>\n",
       "      <td>0.228772</td>\n",
       "      <td>0.48</td>\n",
       "      <td>0.7800</td>\n",
       "      <td>0.965</td>\n",
       "      <td>1.1200</td>\n",
       "      <td>1.71</td>\n",
       "    </tr>\n",
       "    <tr>\n",
       "      <th>OD280</th>\n",
       "      <td>174.0</td>\n",
       "      <td>2.612486</td>\n",
       "      <td>0.712312</td>\n",
       "      <td>1.27</td>\n",
       "      <td>1.9375</td>\n",
       "      <td>2.780</td>\n",
       "      <td>3.1775</td>\n",
       "      <td>4.00</td>\n",
       "    </tr>\n",
       "    <tr>\n",
       "      <th>Proline</th>\n",
       "      <td>174.0</td>\n",
       "      <td>748.390805</td>\n",
       "      <td>314.254669</td>\n",
       "      <td>278.00</td>\n",
       "      <td>500.5000</td>\n",
       "      <td>675.000</td>\n",
       "      <td>985.0000</td>\n",
       "      <td>1680.00</td>\n",
       "    </tr>\n",
       "  </tbody>\n",
       "</table>\n",
       "</div>"
      ],
      "text/plain": [
       "                      count        mean         std     min       25%  \\\n",
       "Alcohol               174.0   13.009711    0.806063   11.03   12.3700   \n",
       "Malic_Acid            174.0    2.359598    1.118379    0.74    1.6100   \n",
       "Ash                   174.0    2.366243    0.273714    1.36    2.2100   \n",
       "Ash_Alcanity          174.0   19.483333    3.352578   10.60   17.1250   \n",
       "Magnesium             174.0   99.797688   14.123714   70.00   88.0000   \n",
       "Total_Phenols         174.0    2.296763    0.629323    0.98    1.7425   \n",
       "Flavanoids            174.0    2.023103    1.008110    0.34    1.1250   \n",
       "Nonflavanoid_Phenols  174.0    0.361897    0.124906    0.13    0.2700   \n",
       "Proanthocyanins       174.0    1.590116    0.571402    0.41    1.2500   \n",
       "Color_Intensity       174.0    5.091782    2.326917    1.28    3.2500   \n",
       "Hue                   174.0    0.955552    0.228772    0.48    0.7800   \n",
       "OD280                 174.0    2.612486    0.712312    1.27    1.9375   \n",
       "Proline               174.0  748.390805  314.254669  278.00  500.5000   \n",
       "\n",
       "                          50%       75%      max  \n",
       "Alcohol                13.050   13.6700    14.83  \n",
       "Malic_Acid              1.875    3.1150     5.80  \n",
       "Ash                     2.360    2.5475     3.23  \n",
       "Ash_Alcanity           19.500   21.5000    30.00  \n",
       "Magnesium              98.000  107.0000   162.00  \n",
       "Total_Phenols           2.380    2.8000     3.88  \n",
       "Flavanoids              2.120    2.8875     5.08  \n",
       "Nonflavanoid_Phenols    0.340    0.4375     0.66  \n",
       "Proanthocyanins         1.555    1.9500     3.58  \n",
       "Color_Intensity         4.750    6.2375    13.00  \n",
       "Hue                     0.965    1.1200     1.71  \n",
       "OD280                   2.780    3.1775     4.00  \n",
       "Proline               675.000  985.0000  1680.00  "
      ]
     },
     "execution_count": 9,
     "metadata": {},
     "output_type": "execute_result"
    }
   ],
   "source": [
    "file.describe().T"
   ]
  },
  {
   "cell_type": "code",
   "execution_count": 10,
   "metadata": {},
   "outputs": [
    {
     "data": {
      "text/plain": [
       "array([[<AxesSubplot:title={'center':'Alcohol'}>,\n",
       "        <AxesSubplot:title={'center':'Malic_Acid'}>,\n",
       "        <AxesSubplot:title={'center':'Ash'}>,\n",
       "        <AxesSubplot:title={'center':'Ash_Alcanity'}>],\n",
       "       [<AxesSubplot:title={'center':'Magnesium'}>,\n",
       "        <AxesSubplot:title={'center':'Total_Phenols'}>,\n",
       "        <AxesSubplot:title={'center':'Flavanoids'}>,\n",
       "        <AxesSubplot:title={'center':'Nonflavanoid_Phenols'}>],\n",
       "       [<AxesSubplot:title={'center':'Proanthocyanins'}>,\n",
       "        <AxesSubplot:title={'center':'Color_Intensity'}>,\n",
       "        <AxesSubplot:title={'center':'Hue'}>,\n",
       "        <AxesSubplot:title={'center':'OD280'}>],\n",
       "       [<AxesSubplot:title={'center':'Proline'}>, <AxesSubplot:>,\n",
       "        <AxesSubplot:>, <AxesSubplot:>]], dtype=object)"
      ]
     },
     "execution_count": 10,
     "metadata": {},
     "output_type": "execute_result"
    },
    {
     "data": {
      "image/png": "[encoded data removed]",
      "text/plain": [
       "<Figure size 432x288 with 16 Axes>"
      ]
     },
     "metadata": {
      "needs_background": "light"
     },
     "output_type": "display_data"
    }
   ],
   "source": [
    "file.hist()"
   ]
  },
  {
   "cell_type": "code",
   "execution_count": 12,
   "metadata": {},
   "outputs": [
    {
     "data": {
      "text/plain": [
       "{'whiskers': [<matplotlib.lines.Line2D at 0x2f5dbc60190>,\n",
       "  <matplotlib.lines.Line2D at 0x2f5dbc60460>],\n",
       " 'caps': [<matplotlib.lines.Line2D at 0x2f5dbc607f0>,\n",
       "  <matplotlib.lines.Line2D at 0x2f5dbc60b80>],\n",
       " 'boxes': [<matplotlib.lines.Line2D at 0x2f5dbbcfd60>],\n",
       " 'medians': [<matplotlib.lines.Line2D at 0x2f5dbc60f10>],\n",
       " 'fliers': [<matplotlib.lines.Line2D at 0x2f5dbc712e0>],\n",
       " 'means': []}"
      ]
     },
     "execution_count": 12,
     "metadata": {},
     "output_type": "execute_result"
    },
    {
     "data": {
      "image/png": "[encoded data removed]",
      "text/plain": [
       "<Figure size 432x288 with 1 Axes>"
      ]
     },
     "metadata": {
      "needs_background": "light"
     },
     "output_type": "display_data"
    }
   ],
   "source": [
    "plt.boxplot(file[\"Alcohol\"])"
   ]
  },
  {
   "cell_type": "markdown",
   "metadata": {},
   "source": [
    "# 1) Agglomerative Hierarchical Clustering Algorithm"
   ]
  },
  {
   "cell_type": "code",
   "execution_count": 13,
   "metadata": {},
   "outputs": [
    {
     "data": {
      "image/png": "[encoded data removed]",
      "text/plain": [
       "<Figure size 432x288 with 1 Axes>"
      ]
     },
     "metadata": {
      "needs_background": "light"
     },
     "output_type": "display_data"
    }
   ],
   "source": [
    "#show the Dendrogram(show step by step clustring formation)\n",
    "data1=file\n",
    "dgr = dg.dendrogram(dg.linkage(data1,method = 'single'))\n",
    "plt.title('Dendrogram')\n",
    "plt.xlabel('Medicine')\n",
    "plt.ylabel('Euclidean Distance')\n",
    "plt.show()"
   ]
  },
  {
   "cell_type": "code",
   "execution_count": 14,
   "metadata": {},
   "outputs": [
    {
     "data": {
      "text/plain": [
       "array([ 0, 15,  4, 43,  0, 35,  2,  4,  0, 12, 37, 47, 27, 31,  2, 10,  4,\n",
       "       25,  0, 28, 34,  0,  4, 20, 22,  1, 13,  0,  1,  1, 19,  4, 11,  9,\n",
       "       39, 36,  0,  4,  1,  4,  0, 24,  2, 20,  7, 49, 10, 25, 24, 17, 19,\n",
       "        1, 22, 38,  6,  1,  8, 13,  9, 42,  0,  2, 24, 11, 18, 24,  2,  4,\n",
       "        4,  3,  7, 33,  2,  2,  0, 23,  7, 11, 41,  1, 45, 32, 46,  7, 22,\n",
       "        3, 15,  1,  1,  1, 16,  2, 40, 14,  1,  9,  2, 46, 10, 14,  2, 10,\n",
       "       30,  1,  1, 23,  1,  1, 14,  1,  1,  1, 10,  2,  2,  1, 44,  2,  2,\n",
       "       48,  3,  5, 44,  5,  5,  1,  1,  2,  1,  2,  1,  1,  2, 12,  3, 21,\n",
       "        1,  1,  1, 23,  7, 44, 29,  1,  5,  1,  9,  9,  1, 23,  1,  1,  8,\n",
       "       21,  1, 10,  3,  1,  6,  1,  1,  2,  1, 14,  1, 10,  2,  5,  2, 26,\n",
       "       10,  9,  1,  1], dtype=int64)"
      ]
     },
     "execution_count": 14,
     "metadata": {},
     "output_type": "execute_result"
    }
   ],
   "source": [
    "#Create the Agglomerative single Clustering Model with 50 clusters\n",
    "cluster_model = AgglomerativeClustering(n_clusters =50,affinity = 'euclidean',linkage = 'single')\n",
    "cluster_Hierarchical=cluster_model.fit_predict(data1)\n",
    "cluster_Hierarchical"
   ]
  },
  {
   "cell_type": "code",
   "execution_count": 15,
   "metadata": {},
   "outputs": [
    {
     "name": "stderr",
     "output_type": "stream",
     "text": [
      "C:\\Users\\spide\\AppData\\Local\\Temp/ipykernel_14064/1922062644.py:2: SettingWithCopyWarning: \n",
      "A value is trying to be set on a copy of a slice from a DataFrame.\n",
      "Try using .loc[row_indexer,col_indexer] = value instead\n",
      "\n",
      "See the caveats in the documentation: https://pandas.pydata.org/pandas-docs/stable/user_guide/indexing.html#returning-a-view-versus-a-copy\n",
      "  data1[\"cluster\"]=cluster_Hierarchical\n"
     ]
    },
    {
     "data": {
      "text/html": [
       "<div>\n",
       "<style scoped>\n",
       "    .dataframe tbody tr th:only-of-type {\n",
       "        vertical-align: middle;\n",
       "    }\n",
       "\n",
       "    .dataframe tbody tr th {\n",
       "        vertical-align: top;\n",
       "    }\n",
       "\n",
       "    .dataframe thead th {\n",
       "        text-align: right;\n",
       "    }\n",
       "</style>\n",
       "<table border=\"1\" class=\"dataframe\">\n",
       "  <thead>\n",
       "    <tr style=\"text-align: right;\">\n",
       "      <th></th>\n",
       "      <th>Alcohol</th>\n",
       "      <th>Malic_Acid</th>\n",
       "      <th>Ash</th>\n",
       "      <th>Ash_Alcanity</th>\n",
       "      <th>Magnesium</th>\n",
       "      <th>Total_Phenols</th>\n",
       "      <th>Flavanoids</th>\n",
       "      <th>Nonflavanoid_Phenols</th>\n",
       "      <th>Proanthocyanins</th>\n",
       "      <th>Color_Intensity</th>\n",
       "      <th>Hue</th>\n",
       "      <th>OD280</th>\n",
       "      <th>Proline</th>\n",
       "      <th>cluster</th>\n",
       "    </tr>\n",
       "  </thead>\n",
       "  <tbody>\n",
       "    <tr>\n",
       "      <th>0</th>\n",
       "      <td>14.83</td>\n",
       "      <td>1.64</td>\n",
       "      <td>2.17</td>\n",
       "      <td>14.0</td>\n",
       "      <td>97.0</td>\n",
       "      <td>2.80</td>\n",
       "      <td>2.98</td>\n",
       "      <td>0.29</td>\n",
       "      <td>1.98</td>\n",
       "      <td>5.20</td>\n",
       "      <td>1.08</td>\n",
       "      <td>2.85</td>\n",
       "      <td>1045</td>\n",
       "      <td>0</td>\n",
       "    </tr>\n",
       "    <tr>\n",
       "      <th>1</th>\n",
       "      <td>14.75</td>\n",
       "      <td>1.73</td>\n",
       "      <td>2.39</td>\n",
       "      <td>11.4</td>\n",
       "      <td>91.0</td>\n",
       "      <td>3.10</td>\n",
       "      <td>3.69</td>\n",
       "      <td>0.43</td>\n",
       "      <td>2.81</td>\n",
       "      <td>5.40</td>\n",
       "      <td>1.25</td>\n",
       "      <td>2.73</td>\n",
       "      <td>1150</td>\n",
       "      <td>15</td>\n",
       "    </tr>\n",
       "    <tr>\n",
       "      <th>2</th>\n",
       "      <td>14.39</td>\n",
       "      <td>1.87</td>\n",
       "      <td>2.45</td>\n",
       "      <td>14.6</td>\n",
       "      <td>96.0</td>\n",
       "      <td>2.50</td>\n",
       "      <td>2.52</td>\n",
       "      <td>0.30</td>\n",
       "      <td>1.98</td>\n",
       "      <td>5.25</td>\n",
       "      <td>1.02</td>\n",
       "      <td>3.58</td>\n",
       "      <td>1290</td>\n",
       "      <td>4</td>\n",
       "    </tr>\n",
       "    <tr>\n",
       "      <th>3</th>\n",
       "      <td>14.38</td>\n",
       "      <td>1.87</td>\n",
       "      <td>2.38</td>\n",
       "      <td>12.0</td>\n",
       "      <td>102.0</td>\n",
       "      <td>3.30</td>\n",
       "      <td>3.64</td>\n",
       "      <td>0.29</td>\n",
       "      <td>2.96</td>\n",
       "      <td>7.50</td>\n",
       "      <td>1.20</td>\n",
       "      <td>3.00</td>\n",
       "      <td>1547</td>\n",
       "      <td>43</td>\n",
       "    </tr>\n",
       "    <tr>\n",
       "      <th>4</th>\n",
       "      <td>14.38</td>\n",
       "      <td>3.59</td>\n",
       "      <td>2.28</td>\n",
       "      <td>16.0</td>\n",
       "      <td>102.0</td>\n",
       "      <td>3.25</td>\n",
       "      <td>3.17</td>\n",
       "      <td>0.27</td>\n",
       "      <td>2.19</td>\n",
       "      <td>4.90</td>\n",
       "      <td>1.04</td>\n",
       "      <td>3.44</td>\n",
       "      <td>1065</td>\n",
       "      <td>0</td>\n",
       "    </tr>\n",
       "    <tr>\n",
       "      <th>...</th>\n",
       "      <td>...</td>\n",
       "      <td>...</td>\n",
       "      <td>...</td>\n",
       "      <td>...</td>\n",
       "      <td>...</td>\n",
       "      <td>...</td>\n",
       "      <td>...</td>\n",
       "      <td>...</td>\n",
       "      <td>...</td>\n",
       "      <td>...</td>\n",
       "      <td>...</td>\n",
       "      <td>...</td>\n",
       "      <td>...</td>\n",
       "      <td>...</td>\n",
       "    </tr>\n",
       "    <tr>\n",
       "      <th>175</th>\n",
       "      <td>11.56</td>\n",
       "      <td>2.05</td>\n",
       "      <td>3.23</td>\n",
       "      <td>28.5</td>\n",
       "      <td>119.0</td>\n",
       "      <td>3.18</td>\n",
       "      <td>5.08</td>\n",
       "      <td>0.47</td>\n",
       "      <td>1.87</td>\n",
       "      <td>6.00</td>\n",
       "      <td>0.93</td>\n",
       "      <td>3.69</td>\n",
       "      <td>465</td>\n",
       "      <td>26</td>\n",
       "    </tr>\n",
       "    <tr>\n",
       "      <th>176</th>\n",
       "      <td>11.46</td>\n",
       "      <td>3.74</td>\n",
       "      <td>1.82</td>\n",
       "      <td>19.5</td>\n",
       "      <td>107.0</td>\n",
       "      <td>3.18</td>\n",
       "      <td>2.58</td>\n",
       "      <td>0.24</td>\n",
       "      <td>3.58</td>\n",
       "      <td>2.90</td>\n",
       "      <td>0.75</td>\n",
       "      <td>2.81</td>\n",
       "      <td>562</td>\n",
       "      <td>10</td>\n",
       "    </tr>\n",
       "    <tr>\n",
       "      <th>177</th>\n",
       "      <td>11.45</td>\n",
       "      <td>2.40</td>\n",
       "      <td>2.42</td>\n",
       "      <td>20.0</td>\n",
       "      <td>96.0</td>\n",
       "      <td>2.90</td>\n",
       "      <td>2.79</td>\n",
       "      <td>0.32</td>\n",
       "      <td>1.83</td>\n",
       "      <td>3.25</td>\n",
       "      <td>0.80</td>\n",
       "      <td>3.39</td>\n",
       "      <td>625</td>\n",
       "      <td>9</td>\n",
       "    </tr>\n",
       "    <tr>\n",
       "      <th>178</th>\n",
       "      <td>11.41</td>\n",
       "      <td>0.74</td>\n",
       "      <td>2.50</td>\n",
       "      <td>21.0</td>\n",
       "      <td>88.0</td>\n",
       "      <td>2.48</td>\n",
       "      <td>2.01</td>\n",
       "      <td>0.42</td>\n",
       "      <td>1.44</td>\n",
       "      <td>3.08</td>\n",
       "      <td>1.10</td>\n",
       "      <td>2.31</td>\n",
       "      <td>434</td>\n",
       "      <td>1</td>\n",
       "    </tr>\n",
       "    <tr>\n",
       "      <th>179</th>\n",
       "      <td>11.03</td>\n",
       "      <td>1.51</td>\n",
       "      <td>2.20</td>\n",
       "      <td>21.5</td>\n",
       "      <td>85.0</td>\n",
       "      <td>2.46</td>\n",
       "      <td>2.17</td>\n",
       "      <td>0.52</td>\n",
       "      <td>2.01</td>\n",
       "      <td>1.90</td>\n",
       "      <td>1.71</td>\n",
       "      <td>2.87</td>\n",
       "      <td>407</td>\n",
       "      <td>1</td>\n",
       "    </tr>\n",
       "  </tbody>\n",
       "</table>\n",
       "<p>174 rows × 14 columns</p>\n",
       "</div>"
      ],
      "text/plain": [
       "     Alcohol  Malic_Acid   Ash  Ash_Alcanity  Magnesium  Total_Phenols  \\\n",
       "0      14.83        1.64  2.17          14.0       97.0           2.80   \n",
       "1      14.75        1.73  2.39          11.4       91.0           3.10   \n",
       "2      14.39        1.87  2.45          14.6       96.0           2.50   \n",
       "3      14.38        1.87  2.38          12.0      102.0           3.30   \n",
       "4      14.38        3.59  2.28          16.0      102.0           3.25   \n",
       "..       ...         ...   ...           ...        ...            ...   \n",
       "175    11.56        2.05  3.23          28.5      119.0           3.18   \n",
       "176    11.46        3.74  1.82          19.5      107.0           3.18   \n",
       "177    11.45        2.40  2.42          20.0       96.0           2.90   \n",
       "178    11.41        0.74  2.50          21.0       88.0           2.48   \n",
       "179    11.03        1.51  2.20          21.5       85.0           2.46   \n",
       "\n",
       "     Flavanoids  Nonflavanoid_Phenols  Proanthocyanins  Color_Intensity   Hue  \\\n",
       "0          2.98                  0.29             1.98             5.20  1.08   \n",
       "1          3.69                  0.43             2.81             5.40  1.25   \n",
       "2          2.52                  0.30             1.98             5.25  1.02   \n",
       "3          3.64                  0.29             2.96             7.50  1.20   \n",
       "4          3.17                  0.27             2.19             4.90  1.04   \n",
       "..          ...                   ...              ...              ...   ...   \n",
       "175        5.08                  0.47             1.87             6.00  0.93   \n",
       "176        2.58                  0.24             3.58             2.90  0.75   \n",
       "177        2.79                  0.32             1.83             3.25  0.80   \n",
       "178        2.01                  0.42             1.44             3.08  1.10   \n",
       "179        2.17                  0.52             2.01             1.90  1.71   \n",
       "\n",
       "     OD280  Proline  cluster  \n",
       "0     2.85     1045        0  \n",
       "1     2.73     1150       15  \n",
       "2     3.58     1290        4  \n",
       "3     3.00     1547       43  \n",
       "4     3.44     1065        0  \n",
       "..     ...      ...      ...  \n",
       "175   3.69      465       26  \n",
       "176   2.81      562       10  \n",
       "177   3.39      625        9  \n",
       "178   2.31      434        1  \n",
       "179   2.87      407        1  \n",
       "\n",
       "[174 rows x 14 columns]"
      ]
     },
     "execution_count": 15,
     "metadata": {},
     "output_type": "execute_result"
    }
   ],
   "source": [
    "#Assign the clusters to the data\n",
    "data1[\"cluster\"]=cluster_Hierarchical\n",
    "pd.DataFrame(data1)"
   ]
  },
  {
   "cell_type": "code",
   "execution_count": 16,
   "metadata": {},
   "outputs": [
    {
     "data": {
      "text/plain": [
       "{'whiskers': [<matplotlib.lines.Line2D at 0x2f5dbe34eb0>,\n",
       "  <matplotlib.lines.Line2D at 0x2f5dbe412b0>],\n",
       " 'caps': [<matplotlib.lines.Line2D at 0x2f5dbe41610>,\n",
       "  <matplotlib.lines.Line2D at 0x2f5dbe419a0>],\n",
       " 'boxes': [<matplotlib.lines.Line2D at 0x2f5dbe34b20>],\n",
       " 'medians': [<matplotlib.lines.Line2D at 0x2f5dbe41d30>],\n",
       " 'fliers': [<matplotlib.lines.Line2D at 0x2f5dbe4a100>],\n",
       " 'means': []}"
      ]
     },
     "execution_count": 16,
     "metadata": {},
     "output_type": "execute_result"
    },
    {
     "data": {
      "image/png": "[encoded data removed]",
      "text/plain": [
       "<Figure size 432x288 with 1 Axes>"
      ]
     },
     "metadata": {
      "needs_background": "light"
     },
     "output_type": "display_data"
    }
   ],
   "source": [
    "# Box plot for all data clusters\n",
    "plt.boxplot(cluster_Hierarchical)"
   ]
  },
  {
   "cell_type": "code",
   "execution_count": 17,
   "metadata": {},
   "outputs": [
    {
     "data": {
      "text/plain": [
       "(array([84., 20., 19.,  7., 15.,  6.,  5.,  5.,  7.,  6.]),\n",
       " array([ 0. ,  4.9,  9.8, 14.7, 19.6, 24.5, 29.4, 34.3, 39.2, 44.1, 49. ]),\n",
       " <BarContainer object of 10 artists>)"
      ]
     },
     "execution_count": 17,
     "metadata": {},
     "output_type": "execute_result"
    },
    {
     "data": {
      "image/png": "[encoded data removed]",
      "text/plain": [
       "<Figure size 432x288 with 1 Axes>"
      ]
     },
     "metadata": {
      "needs_background": "light"
     },
     "output_type": "display_data"
    }
   ],
   "source": [
    "plt.hist(cluster_Hierarchical)"
   ]
  },
  {
   "cell_type": "markdown",
   "metadata": {},
   "source": [
    "# 2) K-Medoids Clustering Algorithm "
   ]
  },
  {
   "cell_type": "code",
   "execution_count": 18,
   "metadata": {},
   "outputs": [
    {
     "data": {
      "text/html": [
       "<div>\n",
       "<style scoped>\n",
       "    .dataframe tbody tr th:only-of-type {\n",
       "        vertical-align: middle;\n",
       "    }\n",
       "\n",
       "    .dataframe tbody tr th {\n",
       "        vertical-align: top;\n",
       "    }\n",
       "\n",
       "    .dataframe thead th {\n",
       "        text-align: right;\n",
       "    }\n",
       "</style>\n",
       "<table border=\"1\" class=\"dataframe\">\n",
       "  <thead>\n",
       "    <tr style=\"text-align: right;\">\n",
       "      <th></th>\n",
       "      <th>Alcohol</th>\n",
       "      <th>Malic_Acid</th>\n",
       "      <th>Ash</th>\n",
       "      <th>Ash_Alcanity</th>\n",
       "      <th>Magnesium</th>\n",
       "      <th>Total_Phenols</th>\n",
       "      <th>Flavanoids</th>\n",
       "      <th>Nonflavanoid_Phenols</th>\n",
       "      <th>Proanthocyanins</th>\n",
       "      <th>Color_Intensity</th>\n",
       "      <th>Hue</th>\n",
       "      <th>OD280</th>\n",
       "      <th>Proline</th>\n",
       "      <th>cluster</th>\n",
       "    </tr>\n",
       "  </thead>\n",
       "  <tbody>\n",
       "    <tr>\n",
       "      <th>0</th>\n",
       "      <td>14.83</td>\n",
       "      <td>1.64</td>\n",
       "      <td>2.17</td>\n",
       "      <td>14.0</td>\n",
       "      <td>97.0</td>\n",
       "      <td>2.80</td>\n",
       "      <td>2.98</td>\n",
       "      <td>0.29</td>\n",
       "      <td>1.98</td>\n",
       "      <td>5.20</td>\n",
       "      <td>1.08</td>\n",
       "      <td>2.85</td>\n",
       "      <td>1045</td>\n",
       "      <td>0</td>\n",
       "    </tr>\n",
       "    <tr>\n",
       "      <th>1</th>\n",
       "      <td>14.75</td>\n",
       "      <td>1.73</td>\n",
       "      <td>2.39</td>\n",
       "      <td>11.4</td>\n",
       "      <td>91.0</td>\n",
       "      <td>3.10</td>\n",
       "      <td>3.69</td>\n",
       "      <td>0.43</td>\n",
       "      <td>2.81</td>\n",
       "      <td>5.40</td>\n",
       "      <td>1.25</td>\n",
       "      <td>2.73</td>\n",
       "      <td>1150</td>\n",
       "      <td>15</td>\n",
       "    </tr>\n",
       "    <tr>\n",
       "      <th>2</th>\n",
       "      <td>14.39</td>\n",
       "      <td>1.87</td>\n",
       "      <td>2.45</td>\n",
       "      <td>14.6</td>\n",
       "      <td>96.0</td>\n",
       "      <td>2.50</td>\n",
       "      <td>2.52</td>\n",
       "      <td>0.30</td>\n",
       "      <td>1.98</td>\n",
       "      <td>5.25</td>\n",
       "      <td>1.02</td>\n",
       "      <td>3.58</td>\n",
       "      <td>1290</td>\n",
       "      <td>4</td>\n",
       "    </tr>\n",
       "    <tr>\n",
       "      <th>3</th>\n",
       "      <td>14.38</td>\n",
       "      <td>1.87</td>\n",
       "      <td>2.38</td>\n",
       "      <td>12.0</td>\n",
       "      <td>102.0</td>\n",
       "      <td>3.30</td>\n",
       "      <td>3.64</td>\n",
       "      <td>0.29</td>\n",
       "      <td>2.96</td>\n",
       "      <td>7.50</td>\n",
       "      <td>1.20</td>\n",
       "      <td>3.00</td>\n",
       "      <td>1547</td>\n",
       "      <td>43</td>\n",
       "    </tr>\n",
       "    <tr>\n",
       "      <th>4</th>\n",
       "      <td>14.38</td>\n",
       "      <td>3.59</td>\n",
       "      <td>2.28</td>\n",
       "      <td>16.0</td>\n",
       "      <td>102.0</td>\n",
       "      <td>3.25</td>\n",
       "      <td>3.17</td>\n",
       "      <td>0.27</td>\n",
       "      <td>2.19</td>\n",
       "      <td>4.90</td>\n",
       "      <td>1.04</td>\n",
       "      <td>3.44</td>\n",
       "      <td>1065</td>\n",
       "      <td>0</td>\n",
       "    </tr>\n",
       "  </tbody>\n",
       "</table>\n",
       "</div>"
      ],
      "text/plain": [
       "   Alcohol  Malic_Acid   Ash  Ash_Alcanity  Magnesium  Total_Phenols  \\\n",
       "0    14.83        1.64  2.17          14.0       97.0           2.80   \n",
       "1    14.75        1.73  2.39          11.4       91.0           3.10   \n",
       "2    14.39        1.87  2.45          14.6       96.0           2.50   \n",
       "3    14.38        1.87  2.38          12.0      102.0           3.30   \n",
       "4    14.38        3.59  2.28          16.0      102.0           3.25   \n",
       "\n",
       "   Flavanoids  Nonflavanoid_Phenols  Proanthocyanins  Color_Intensity   Hue  \\\n",
       "0        2.98                  0.29             1.98             5.20  1.08   \n",
       "1        3.69                  0.43             2.81             5.40  1.25   \n",
       "2        2.52                  0.30             1.98             5.25  1.02   \n",
       "3        3.64                  0.29             2.96             7.50  1.20   \n",
       "4        3.17                  0.27             2.19             4.90  1.04   \n",
       "\n",
       "   OD280  Proline  cluster  \n",
       "0   2.85     1045        0  \n",
       "1   2.73     1150       15  \n",
       "2   3.58     1290        4  \n",
       "3   3.00     1547       43  \n",
       "4   3.44     1065        0  "
      ]
     },
     "execution_count": 18,
     "metadata": {},
     "output_type": "execute_result"
    }
   ],
   "source": [
    "data2 =file\n",
    "data2.head()"
   ]
  },
  {
   "cell_type": "code",
   "execution_count": 19,
   "metadata": {},
   "outputs": [
    {
     "data": {
      "text/plain": [
       "[<matplotlib.lines.Line2D at 0x2f5dbf1a850>]"
      ]
     },
     "execution_count": 19,
     "metadata": {},
     "output_type": "execute_result"
    },
    {
     "data": {
      "image/png": "[encoded data removed]",
      "text/plain": [
       "<Figure size 432x288 with 1 Axes>"
      ]
     },
     "metadata": {
      "needs_background": "light"
     },
     "output_type": "display_data"
    }
   ],
   "source": [
    "# plot the change of the error respect to number of clusters\n",
    "list = []\n",
    "k = range(1,60)\n",
    "for i in k:\n",
    "    km = KMedoids(n_clusters=i, max_iter= 100, random_state=1)\n",
    "    km.fit(data2)\n",
    "    list.append(km.inertia_)\n",
    "plt.xlabel('no_clusters')\n",
    "plt.ylabel('Sum of squared error')\n",
    "plt.plot(k,list)"
   ]
  },
  {
   "cell_type": "code",
   "execution_count": 20,
   "metadata": {},
   "outputs": [],
   "source": [
    "##### Apply the K-Medoids algorithm\n",
    "kmed = KMedoids(n_clusters=50, max_iter=1000, random_state=42,metric=\"manhattan\")\n",
    "\n",
    "#Fit the kmedo function on the scaled data\n",
    "kmed.fit(data2)\n",
    "cluster_Medoids=kmed.predict(data2)"
   ]
  },
  {
   "cell_type": "code",
   "execution_count": 21,
   "metadata": {},
   "outputs": [
    {
     "name": "stderr",
     "output_type": "stream",
     "text": [
      "C:\\Users\\spide\\AppData\\Local\\Temp/ipykernel_14064/330263882.py:2: SettingWithCopyWarning: \n",
      "A value is trying to be set on a copy of a slice from a DataFrame.\n",
      "Try using .loc[row_indexer,col_indexer] = value instead\n",
      "\n",
      "See the caveats in the documentation: https://pandas.pydata.org/pandas-docs/stable/user_guide/indexing.html#returning-a-view-versus-a-copy\n",
      "  data2[\"cluster\"]=cluster_Medoids\n"
     ]
    },
    {
     "data": {
      "text/html": [
       "<div>\n",
       "<style scoped>\n",
       "    .dataframe tbody tr th:only-of-type {\n",
       "        vertical-align: middle;\n",
       "    }\n",
       "\n",
       "    .dataframe tbody tr th {\n",
       "        vertical-align: top;\n",
       "    }\n",
       "\n",
       "    .dataframe thead th {\n",
       "        text-align: right;\n",
       "    }\n",
       "</style>\n",
       "<table border=\"1\" class=\"dataframe\">\n",
       "  <thead>\n",
       "    <tr style=\"text-align: right;\">\n",
       "      <th></th>\n",
       "      <th>Alcohol</th>\n",
       "      <th>Malic_Acid</th>\n",
       "      <th>Ash</th>\n",
       "      <th>Ash_Alcanity</th>\n",
       "      <th>Magnesium</th>\n",
       "      <th>Total_Phenols</th>\n",
       "      <th>Flavanoids</th>\n",
       "      <th>Nonflavanoid_Phenols</th>\n",
       "      <th>Proanthocyanins</th>\n",
       "      <th>Color_Intensity</th>\n",
       "      <th>Hue</th>\n",
       "      <th>OD280</th>\n",
       "      <th>Proline</th>\n",
       "      <th>cluster</th>\n",
       "    </tr>\n",
       "  </thead>\n",
       "  <tbody>\n",
       "    <tr>\n",
       "      <th>0</th>\n",
       "      <td>14.83</td>\n",
       "      <td>1.64</td>\n",
       "      <td>2.17</td>\n",
       "      <td>14.0</td>\n",
       "      <td>97.0</td>\n",
       "      <td>2.80</td>\n",
       "      <td>2.98</td>\n",
       "      <td>0.29</td>\n",
       "      <td>1.98</td>\n",
       "      <td>5.20</td>\n",
       "      <td>1.08</td>\n",
       "      <td>2.85</td>\n",
       "      <td>1045</td>\n",
       "      <td>24</td>\n",
       "    </tr>\n",
       "    <tr>\n",
       "      <th>1</th>\n",
       "      <td>14.75</td>\n",
       "      <td>1.73</td>\n",
       "      <td>2.39</td>\n",
       "      <td>11.4</td>\n",
       "      <td>91.0</td>\n",
       "      <td>3.10</td>\n",
       "      <td>3.69</td>\n",
       "      <td>0.43</td>\n",
       "      <td>2.81</td>\n",
       "      <td>5.40</td>\n",
       "      <td>1.25</td>\n",
       "      <td>2.73</td>\n",
       "      <td>1150</td>\n",
       "      <td>24</td>\n",
       "    </tr>\n",
       "    <tr>\n",
       "      <th>2</th>\n",
       "      <td>14.39</td>\n",
       "      <td>1.87</td>\n",
       "      <td>2.45</td>\n",
       "      <td>14.6</td>\n",
       "      <td>96.0</td>\n",
       "      <td>2.50</td>\n",
       "      <td>2.52</td>\n",
       "      <td>0.30</td>\n",
       "      <td>1.98</td>\n",
       "      <td>5.25</td>\n",
       "      <td>1.02</td>\n",
       "      <td>3.58</td>\n",
       "      <td>1290</td>\n",
       "      <td>47</td>\n",
       "    </tr>\n",
       "    <tr>\n",
       "      <th>3</th>\n",
       "      <td>14.38</td>\n",
       "      <td>1.87</td>\n",
       "      <td>2.38</td>\n",
       "      <td>12.0</td>\n",
       "      <td>102.0</td>\n",
       "      <td>3.30</td>\n",
       "      <td>3.64</td>\n",
       "      <td>0.29</td>\n",
       "      <td>2.96</td>\n",
       "      <td>7.50</td>\n",
       "      <td>1.20</td>\n",
       "      <td>3.00</td>\n",
       "      <td>1547</td>\n",
       "      <td>47</td>\n",
       "    </tr>\n",
       "    <tr>\n",
       "      <th>4</th>\n",
       "      <td>14.38</td>\n",
       "      <td>3.59</td>\n",
       "      <td>2.28</td>\n",
       "      <td>16.0</td>\n",
       "      <td>102.0</td>\n",
       "      <td>3.25</td>\n",
       "      <td>3.17</td>\n",
       "      <td>0.27</td>\n",
       "      <td>2.19</td>\n",
       "      <td>4.90</td>\n",
       "      <td>1.04</td>\n",
       "      <td>3.44</td>\n",
       "      <td>1065</td>\n",
       "      <td>24</td>\n",
       "    </tr>\n",
       "    <tr>\n",
       "      <th>...</th>\n",
       "      <td>...</td>\n",
       "      <td>...</td>\n",
       "      <td>...</td>\n",
       "      <td>...</td>\n",
       "      <td>...</td>\n",
       "      <td>...</td>\n",
       "      <td>...</td>\n",
       "      <td>...</td>\n",
       "      <td>...</td>\n",
       "      <td>...</td>\n",
       "      <td>...</td>\n",
       "      <td>...</td>\n",
       "      <td>...</td>\n",
       "      <td>...</td>\n",
       "    </tr>\n",
       "    <tr>\n",
       "      <th>175</th>\n",
       "      <td>11.56</td>\n",
       "      <td>2.05</td>\n",
       "      <td>3.23</td>\n",
       "      <td>28.5</td>\n",
       "      <td>119.0</td>\n",
       "      <td>3.18</td>\n",
       "      <td>5.08</td>\n",
       "      <td>0.47</td>\n",
       "      <td>1.87</td>\n",
       "      <td>6.00</td>\n",
       "      <td>0.93</td>\n",
       "      <td>3.69</td>\n",
       "      <td>465</td>\n",
       "      <td>43</td>\n",
       "    </tr>\n",
       "    <tr>\n",
       "      <th>176</th>\n",
       "      <td>11.46</td>\n",
       "      <td>3.74</td>\n",
       "      <td>1.82</td>\n",
       "      <td>19.5</td>\n",
       "      <td>107.0</td>\n",
       "      <td>3.18</td>\n",
       "      <td>2.58</td>\n",
       "      <td>0.24</td>\n",
       "      <td>3.58</td>\n",
       "      <td>2.90</td>\n",
       "      <td>0.75</td>\n",
       "      <td>2.81</td>\n",
       "      <td>562</td>\n",
       "      <td>36</td>\n",
       "    </tr>\n",
       "    <tr>\n",
       "      <th>177</th>\n",
       "      <td>11.45</td>\n",
       "      <td>2.40</td>\n",
       "      <td>2.42</td>\n",
       "      <td>20.0</td>\n",
       "      <td>96.0</td>\n",
       "      <td>2.90</td>\n",
       "      <td>2.79</td>\n",
       "      <td>0.32</td>\n",
       "      <td>1.83</td>\n",
       "      <td>3.25</td>\n",
       "      <td>0.80</td>\n",
       "      <td>3.39</td>\n",
       "      <td>625</td>\n",
       "      <td>3</td>\n",
       "    </tr>\n",
       "    <tr>\n",
       "      <th>178</th>\n",
       "      <td>11.41</td>\n",
       "      <td>0.74</td>\n",
       "      <td>2.50</td>\n",
       "      <td>21.0</td>\n",
       "      <td>88.0</td>\n",
       "      <td>2.48</td>\n",
       "      <td>2.01</td>\n",
       "      <td>0.42</td>\n",
       "      <td>1.44</td>\n",
       "      <td>3.08</td>\n",
       "      <td>1.10</td>\n",
       "      <td>2.31</td>\n",
       "      <td>434</td>\n",
       "      <td>46</td>\n",
       "    </tr>\n",
       "    <tr>\n",
       "      <th>179</th>\n",
       "      <td>11.03</td>\n",
       "      <td>1.51</td>\n",
       "      <td>2.20</td>\n",
       "      <td>21.5</td>\n",
       "      <td>85.0</td>\n",
       "      <td>2.46</td>\n",
       "      <td>2.17</td>\n",
       "      <td>0.52</td>\n",
       "      <td>2.01</td>\n",
       "      <td>1.90</td>\n",
       "      <td>1.71</td>\n",
       "      <td>2.87</td>\n",
       "      <td>407</td>\n",
       "      <td>35</td>\n",
       "    </tr>\n",
       "  </tbody>\n",
       "</table>\n",
       "<p>174 rows × 14 columns</p>\n",
       "</div>"
      ],
      "text/plain": [
       "     Alcohol  Malic_Acid   Ash  Ash_Alcanity  Magnesium  Total_Phenols  \\\n",
       "0      14.83        1.64  2.17          14.0       97.0           2.80   \n",
       "1      14.75        1.73  2.39          11.4       91.0           3.10   \n",
       "2      14.39        1.87  2.45          14.6       96.0           2.50   \n",
       "3      14.38        1.87  2.38          12.0      102.0           3.30   \n",
       "4      14.38        3.59  2.28          16.0      102.0           3.25   \n",
       "..       ...         ...   ...           ...        ...            ...   \n",
       "175    11.56        2.05  3.23          28.5      119.0           3.18   \n",
       "176    11.46        3.74  1.82          19.5      107.0           3.18   \n",
       "177    11.45        2.40  2.42          20.0       96.0           2.90   \n",
       "178    11.41        0.74  2.50          21.0       88.0           2.48   \n",
       "179    11.03        1.51  2.20          21.5       85.0           2.46   \n",
       "\n",
       "     Flavanoids  Nonflavanoid_Phenols  Proanthocyanins  Color_Intensity   Hue  \\\n",
       "0          2.98                  0.29             1.98             5.20  1.08   \n",
       "1          3.69                  0.43             2.81             5.40  1.25   \n",
       "2          2.52                  0.30             1.98             5.25  1.02   \n",
       "3          3.64                  0.29             2.96             7.50  1.20   \n",
       "4          3.17                  0.27             2.19             4.90  1.04   \n",
       "..          ...                   ...              ...              ...   ...   \n",
       "175        5.08                  0.47             1.87             6.00  0.93   \n",
       "176        2.58                  0.24             3.58             2.90  0.75   \n",
       "177        2.79                  0.32             1.83             3.25  0.80   \n",
       "178        2.01                  0.42             1.44             3.08  1.10   \n",
       "179        2.17                  0.52             2.01             1.90  1.71   \n",
       "\n",
       "     OD280  Proline  cluster  \n",
       "0     2.85     1045       24  \n",
       "1     2.73     1150       24  \n",
       "2     3.58     1290       47  \n",
       "3     3.00     1547       47  \n",
       "4     3.44     1065       24  \n",
       "..     ...      ...      ...  \n",
       "175   3.69      465       43  \n",
       "176   2.81      562       36  \n",
       "177   3.39      625        3  \n",
       "178   2.31      434       46  \n",
       "179   2.87      407       35  \n",
       "\n",
       "[174 rows x 14 columns]"
      ]
     },
     "execution_count": 21,
     "metadata": {},
     "output_type": "execute_result"
    }
   ],
   "source": [
    "#Assign the clusters to the data\n",
    "data2[\"cluster\"]=cluster_Medoids\n",
    "pd.DataFrame(data2)"
   ]
  },
  {
   "cell_type": "code",
   "execution_count": 22,
   "metadata": {},
   "outputs": [
    {
     "data": {
      "text/plain": [
       "{'whiskers': [<matplotlib.lines.Line2D at 0x2f5dd080700>,\n",
       "  <matplotlib.lines.Line2D at 0x2f5dd080a90>],\n",
       " 'caps': [<matplotlib.lines.Line2D at 0x2f5dd080e20>,\n",
       "  <matplotlib.lines.Line2D at 0x2f5dd08c1f0>],\n",
       " 'boxes': [<matplotlib.lines.Line2D at 0x2f5dd080340>],\n",
       " 'medians': [<matplotlib.lines.Line2D at 0x2f5dd08c580>],\n",
       " 'fliers': [<matplotlib.lines.Line2D at 0x2f5dd08c910>],\n",
       " 'means': []}"
      ]
     },
     "execution_count": 22,
     "metadata": {},
     "output_type": "execute_result"
    },
    {
     "data": {
      "image/png": "[encoded data removed]",
      "text/plain": [
       "<Figure size 432x288 with 1 Axes>"
      ]
     },
     "metadata": {
      "needs_background": "light"
     },
     "output_type": "display_data"
    }
   ],
   "source": [
    "# Box plot for all data clusters\n",
    "plt.boxplot(cluster_Medoids)"
   ]
  },
  {
   "cell_type": "code",
   "execution_count": 23,
   "metadata": {},
   "outputs": [
    {
     "data": {
      "text/plain": [
       "(array([ 5.,  5.,  6.,  5., 28.,  6.,  9., 28., 25., 57.]),\n",
       " array([ 0. ,  4.9,  9.8, 14.7, 19.6, 24.5, 29.4, 34.3, 39.2, 44.1, 49. ]),\n",
       " <BarContainer object of 10 artists>)"
      ]
     },
     "execution_count": 23,
     "metadata": {},
     "output_type": "execute_result"
    },
    {
     "data": {
      "image/png": "[encoded data removed]",
      "text/plain": [
       "<Figure size 432x288 with 1 Axes>"
      ]
     },
     "metadata": {
      "needs_background": "light"
     },
     "output_type": "display_data"
    }
   ],
   "source": [
    "#Histogram to represent of each cluster \n",
    "plt.hist(cluster_Medoids)"
   ]
  },
  {
   "cell_type": "markdown",
   "metadata": {},
   "source": [
    "# 3) naïve Bayes"
   ]
  },
  {
   "cell_type": "markdown",
   "metadata": {},
   "source": [
    "#  <font color='red'>Read File</font>"
   ]
  },
  {
   "cell_type": "code",
   "execution_count": 42,
   "metadata": {},
   "outputs": [
    {
     "data": {
      "text/html": [
       "<div>\n",
       "<style scoped>\n",
       "    .dataframe tbody tr th:only-of-type {\n",
       "        vertical-align: middle;\n",
       "    }\n",
       "\n",
       "    .dataframe tbody tr th {\n",
       "        vertical-align: top;\n",
       "    }\n",
       "\n",
       "    .dataframe thead th {\n",
       "        text-align: right;\n",
       "    }\n",
       "</style>\n",
       "<table border=\"1\" class=\"dataframe\">\n",
       "  <thead>\n",
       "    <tr style=\"text-align: right;\">\n",
       "      <th></th>\n",
       "      <th>RI</th>\n",
       "      <th>Na</th>\n",
       "      <th>Mg</th>\n",
       "      <th>Al</th>\n",
       "      <th>Si</th>\n",
       "      <th>K</th>\n",
       "      <th>Ca</th>\n",
       "      <th>Ba</th>\n",
       "      <th>Fe</th>\n",
       "      <th>Type</th>\n",
       "    </tr>\n",
       "  </thead>\n",
       "  <tbody>\n",
       "    <tr>\n",
       "      <th>0</th>\n",
       "      <td>1.51115</td>\n",
       "      <td>17.38</td>\n",
       "      <td>0.00</td>\n",
       "      <td>0.34</td>\n",
       "      <td>75.41</td>\n",
       "      <td>0.00</td>\n",
       "      <td>6.65</td>\n",
       "      <td>0.00</td>\n",
       "      <td>0.0</td>\n",
       "      <td>6</td>\n",
       "    </tr>\n",
       "    <tr>\n",
       "      <th>1</th>\n",
       "      <td>1.52365</td>\n",
       "      <td>15.79</td>\n",
       "      <td>1.83</td>\n",
       "      <td>1.31</td>\n",
       "      <td>70.43</td>\n",
       "      <td>0.31</td>\n",
       "      <td>8.61</td>\n",
       "      <td>1.68</td>\n",
       "      <td>0.0</td>\n",
       "      <td>7</td>\n",
       "    </tr>\n",
       "    <tr>\n",
       "      <th>2</th>\n",
       "      <td>1.51508</td>\n",
       "      <td>15.15</td>\n",
       "      <td>0.00</td>\n",
       "      <td>2.25</td>\n",
       "      <td>73.50</td>\n",
       "      <td>0.00</td>\n",
       "      <td>8.34</td>\n",
       "      <td>0.63</td>\n",
       "      <td>0.0</td>\n",
       "      <td>7</td>\n",
       "    </tr>\n",
       "    <tr>\n",
       "      <th>3</th>\n",
       "      <td>1.51609</td>\n",
       "      <td>15.01</td>\n",
       "      <td>0.00</td>\n",
       "      <td>2.51</td>\n",
       "      <td>73.05</td>\n",
       "      <td>0.05</td>\n",
       "      <td>8.83</td>\n",
       "      <td>0.53</td>\n",
       "      <td>0.0</td>\n",
       "      <td>7</td>\n",
       "    </tr>\n",
       "    <tr>\n",
       "      <th>4</th>\n",
       "      <td>1.51888</td>\n",
       "      <td>14.99</td>\n",
       "      <td>0.78</td>\n",
       "      <td>1.74</td>\n",
       "      <td>72.50</td>\n",
       "      <td>0.00</td>\n",
       "      <td>9.95</td>\n",
       "      <td>0.00</td>\n",
       "      <td>0.0</td>\n",
       "      <td>6</td>\n",
       "    </tr>\n",
       "  </tbody>\n",
       "</table>\n",
       "</div>"
      ],
      "text/plain": [
       "        RI     Na    Mg    Al     Si     K    Ca    Ba   Fe  Type\n",
       "0  1.51115  17.38  0.00  0.34  75.41  0.00  6.65  0.00  0.0     6\n",
       "1  1.52365  15.79  1.83  1.31  70.43  0.31  8.61  1.68  0.0     7\n",
       "2  1.51508  15.15  0.00  2.25  73.50  0.00  8.34  0.63  0.0     7\n",
       "3  1.51609  15.01  0.00  2.51  73.05  0.05  8.83  0.53  0.0     7\n",
       "4  1.51888  14.99  0.78  1.74  72.50  0.00  9.95  0.00  0.0     6"
      ]
     },
     "execution_count": 42,
     "metadata": {},
     "output_type": "execute_result"
    }
   ],
   "source": [
    "file2 =pd.read_csv(\"glass_label.csv\")\n",
    "file2.head()"
   ]
  },
  {
   "cell_type": "markdown",
   "metadata": {},
   "source": [
    "# <font color='red'>clean file</font>"
   ]
  },
  {
   "cell_type": "code",
   "execution_count": 43,
   "metadata": {},
   "outputs": [
    {
     "name": "stdout",
     "output_type": "stream",
     "text": [
      "(212, 10)\n"
     ]
    },
    {
     "data": {
      "text/plain": [
       "(208, 10)"
      ]
     },
     "execution_count": 43,
     "metadata": {},
     "output_type": "execute_result"
    }
   ],
   "source": [
    "print(file2.shape)\n",
    "file2=file2.drop_duplicates()\n",
    "file2.shape"
   ]
  },
  {
   "cell_type": "code",
   "execution_count": 44,
   "metadata": {},
   "outputs": [
    {
     "name": "stdout",
     "output_type": "stream",
     "text": [
      "RI      False\n",
      "Na      False\n",
      "Mg      False\n",
      "Al      False\n",
      "Si      False\n",
      "K       False\n",
      "Ca      False\n",
      "Ba      False\n",
      "Fe      False\n",
      "Type    False\n",
      "dtype: bool\n"
     ]
    },
    {
     "data": {
      "text/plain": [
       "RI      0\n",
       "Na      0\n",
       "Mg      0\n",
       "Al      0\n",
       "Si      0\n",
       "K       0\n",
       "Ca      0\n",
       "Ba      0\n",
       "Fe      0\n",
       "Type    0\n",
       "dtype: int64"
      ]
     },
     "execution_count": 44,
     "metadata": {},
     "output_type": "execute_result"
    }
   ],
   "source": [
    "print(file2.isnull().any())\n",
    "file2.isnull().sum()"
   ]
  },
  {
   "cell_type": "markdown",
   "metadata": {},
   "source": [
    "# <font color='red'>Data Visualization</font>"
   ]
  },
  {
   "cell_type": "code",
   "execution_count": 45,
   "metadata": {},
   "outputs": [
    {
     "name": "stdout",
     "output_type": "stream",
     "text": [
      "<class 'pandas.core.frame.DataFrame'>\n",
      "Int64Index: 208 entries, 0 to 211\n",
      "Data columns (total 10 columns):\n",
      " #   Column  Non-Null Count  Dtype  \n",
      "---  ------  --------------  -----  \n",
      " 0   RI      208 non-null    float64\n",
      " 1   Na      208 non-null    float64\n",
      " 2   Mg      208 non-null    float64\n",
      " 3   Al      208 non-null    float64\n",
      " 4   Si      208 non-null    float64\n",
      " 5   K       208 non-null    float64\n",
      " 6   Ca      208 non-null    float64\n",
      " 7   Ba      208 non-null    float64\n",
      " 8   Fe      208 non-null    float64\n",
      " 9   Type    208 non-null    int64  \n",
      "dtypes: float64(9), int64(1)\n",
      "memory usage: 17.9 KB\n"
     ]
    }
   ],
   "source": [
    "file2.info()"
   ]
  },
  {
   "cell_type": "code",
   "execution_count": 46,
   "metadata": {},
   "outputs": [
    {
     "data": {
      "text/html": [
       "<div>\n",
       "<style scoped>\n",
       "    .dataframe tbody tr th:only-of-type {\n",
       "        vertical-align: middle;\n",
       "    }\n",
       "\n",
       "    .dataframe tbody tr th {\n",
       "        vertical-align: top;\n",
       "    }\n",
       "\n",
       "    .dataframe thead th {\n",
       "        text-align: right;\n",
       "    }\n",
       "</style>\n",
       "<table border=\"1\" class=\"dataframe\">\n",
       "  <thead>\n",
       "    <tr style=\"text-align: right;\">\n",
       "      <th></th>\n",
       "      <th>RI</th>\n",
       "      <th>Na</th>\n",
       "      <th>Mg</th>\n",
       "      <th>Al</th>\n",
       "      <th>Si</th>\n",
       "      <th>K</th>\n",
       "      <th>Ca</th>\n",
       "      <th>Ba</th>\n",
       "      <th>Fe</th>\n",
       "      <th>Type</th>\n",
       "    </tr>\n",
       "  </thead>\n",
       "  <tbody>\n",
       "    <tr>\n",
       "      <th>count</th>\n",
       "      <td>208.000000</td>\n",
       "      <td>208.000000</td>\n",
       "      <td>208.000000</td>\n",
       "      <td>208.000000</td>\n",
       "      <td>208.000000</td>\n",
       "      <td>208.000000</td>\n",
       "      <td>208.000000</td>\n",
       "      <td>208.000000</td>\n",
       "      <td>208.000000</td>\n",
       "      <td>208.000000</td>\n",
       "    </tr>\n",
       "    <tr>\n",
       "      <th>mean</th>\n",
       "      <td>1.518355</td>\n",
       "      <td>13.401394</td>\n",
       "      <td>2.681490</td>\n",
       "      <td>1.447837</td>\n",
       "      <td>72.647308</td>\n",
       "      <td>0.504135</td>\n",
       "      <td>8.954231</td>\n",
       "      <td>0.177404</td>\n",
       "      <td>0.056875</td>\n",
       "      <td>2.778846</td>\n",
       "    </tr>\n",
       "    <tr>\n",
       "      <th>std</th>\n",
       "      <td>0.003052</td>\n",
       "      <td>0.812921</td>\n",
       "      <td>1.444871</td>\n",
       "      <td>0.495414</td>\n",
       "      <td>0.776927</td>\n",
       "      <td>0.658752</td>\n",
       "      <td>1.440575</td>\n",
       "      <td>0.502923</td>\n",
       "      <td>0.098119</td>\n",
       "      <td>2.087259</td>\n",
       "    </tr>\n",
       "    <tr>\n",
       "      <th>min</th>\n",
       "      <td>1.511150</td>\n",
       "      <td>10.730000</td>\n",
       "      <td>0.000000</td>\n",
       "      <td>0.290000</td>\n",
       "      <td>69.810000</td>\n",
       "      <td>0.000000</td>\n",
       "      <td>5.430000</td>\n",
       "      <td>0.000000</td>\n",
       "      <td>0.000000</td>\n",
       "      <td>1.000000</td>\n",
       "    </tr>\n",
       "    <tr>\n",
       "      <th>25%</th>\n",
       "      <td>1.516517</td>\n",
       "      <td>12.922500</td>\n",
       "      <td>2.037500</td>\n",
       "      <td>1.190000</td>\n",
       "      <td>72.275000</td>\n",
       "      <td>0.130000</td>\n",
       "      <td>8.227500</td>\n",
       "      <td>0.000000</td>\n",
       "      <td>0.000000</td>\n",
       "      <td>1.000000</td>\n",
       "    </tr>\n",
       "    <tr>\n",
       "      <th>50%</th>\n",
       "      <td>1.517670</td>\n",
       "      <td>13.300000</td>\n",
       "      <td>3.480000</td>\n",
       "      <td>1.360000</td>\n",
       "      <td>72.790000</td>\n",
       "      <td>0.560000</td>\n",
       "      <td>8.600000</td>\n",
       "      <td>0.000000</td>\n",
       "      <td>0.000000</td>\n",
       "      <td>2.000000</td>\n",
       "    </tr>\n",
       "    <tr>\n",
       "      <th>75%</th>\n",
       "      <td>1.519153</td>\n",
       "      <td>13.802500</td>\n",
       "      <td>3.600000</td>\n",
       "      <td>1.630000</td>\n",
       "      <td>73.082500</td>\n",
       "      <td>0.610000</td>\n",
       "      <td>9.142500</td>\n",
       "      <td>0.000000</td>\n",
       "      <td>0.100000</td>\n",
       "      <td>3.000000</td>\n",
       "    </tr>\n",
       "    <tr>\n",
       "      <th>max</th>\n",
       "      <td>1.533930</td>\n",
       "      <td>17.380000</td>\n",
       "      <td>4.490000</td>\n",
       "      <td>3.500000</td>\n",
       "      <td>75.410000</td>\n",
       "      <td>6.210000</td>\n",
       "      <td>16.190000</td>\n",
       "      <td>3.150000</td>\n",
       "      <td>0.510000</td>\n",
       "      <td>7.000000</td>\n",
       "    </tr>\n",
       "  </tbody>\n",
       "</table>\n",
       "</div>"
      ],
      "text/plain": [
       "               RI          Na          Mg          Al          Si           K  \\\n",
       "count  208.000000  208.000000  208.000000  208.000000  208.000000  208.000000   \n",
       "mean     1.518355   13.401394    2.681490    1.447837   72.647308    0.504135   \n",
       "std      0.003052    0.812921    1.444871    0.495414    0.776927    0.658752   \n",
       "min      1.511150   10.730000    0.000000    0.290000   69.810000    0.000000   \n",
       "25%      1.516517   12.922500    2.037500    1.190000   72.275000    0.130000   \n",
       "50%      1.517670   13.300000    3.480000    1.360000   72.790000    0.560000   \n",
       "75%      1.519153   13.802500    3.600000    1.630000   73.082500    0.610000   \n",
       "max      1.533930   17.380000    4.490000    3.500000   75.410000    6.210000   \n",
       "\n",
       "               Ca          Ba          Fe        Type  \n",
       "count  208.000000  208.000000  208.000000  208.000000  \n",
       "mean     8.954231    0.177404    0.056875    2.778846  \n",
       "std      1.440575    0.502923    0.098119    2.087259  \n",
       "min      5.430000    0.000000    0.000000    1.000000  \n",
       "25%      8.227500    0.000000    0.000000    1.000000  \n",
       "50%      8.600000    0.000000    0.000000    2.000000  \n",
       "75%      9.142500    0.000000    0.100000    3.000000  \n",
       "max     16.190000    3.150000    0.510000    7.000000  "
      ]
     },
     "execution_count": 46,
     "metadata": {},
     "output_type": "execute_result"
    }
   ],
   "source": [
    "file2.describe()"
   ]
  },
  {
   "cell_type": "code",
   "execution_count": 29,
   "metadata": {},
   "outputs": [
    {
     "data": {
      "text/plain": [
       "array([[<AxesSubplot:title={'center':'RI'}>,\n",
       "        <AxesSubplot:title={'center':'Na'}>,\n",
       "        <AxesSubplot:title={'center':'Mg'}>],\n",
       "       [<AxesSubplot:title={'center':'Al'}>,\n",
       "        <AxesSubplot:title={'center':'Si'}>,\n",
       "        <AxesSubplot:title={'center':'K'}>],\n",
       "       [<AxesSubplot:title={'center':'Ca'}>,\n",
       "        <AxesSubplot:title={'center':'Ba'}>,\n",
       "        <AxesSubplot:title={'center':'Fe'}>],\n",
       "       [<AxesSubplot:title={'center':'Type'}>, <AxesSubplot:>,\n",
       "        <AxesSubplot:>]], dtype=object)"
      ]
     },
     "execution_count": 29,
     "metadata": {},
     "output_type": "execute_result"
    },
    {
     "data": {
      "image/png": "[encoded data removed]",
      "text/plain": [
       "<Figure size 432x288 with 12 Axes>"
      ]
     },
     "metadata": {
      "needs_background": "light"
     },
     "output_type": "display_data"
    }
   ],
   "source": [
    "file2.hist()"
   ]
  },
  {
   "cell_type": "code",
   "execution_count": 30,
   "metadata": {},
   "outputs": [
    {
     "data": {
      "text/plain": [
       "<AxesSubplot:>"
      ]
     },
     "execution_count": 30,
     "metadata": {},
     "output_type": "execute_result"
    },
    {
     "data": {
      "image/png": "[encoded data removed]",
      "text/plain": [
       "<Figure size 432x288 with 1 Axes>"
      ]
     },
     "metadata": {
      "needs_background": "light"
     },
     "output_type": "display_data"
    }
   ],
   "source": [
    "file2.plot.barh()"
   ]
  },
  {
   "cell_type": "code",
   "execution_count": 31,
   "metadata": {},
   "outputs": [
    {
     "data": {
      "text/plain": [
       "{'whiskers': [<matplotlib.lines.Line2D at 0x2f5df5bb640>,\n",
       "  <matplotlib.lines.Line2D at 0x2f5df5bb9a0>],\n",
       " 'caps': [<matplotlib.lines.Line2D at 0x2f5df5bbd30>,\n",
       "  <matplotlib.lines.Line2D at 0x2f5df5a8100>],\n",
       " 'boxes': [<matplotlib.lines.Line2D at 0x2f5df5bb2b0>],\n",
       " 'medians': [<matplotlib.lines.Line2D at 0x2f5df5a8490>],\n",
       " 'fliers': [<matplotlib.lines.Line2D at 0x2f5df5a8820>],\n",
       " 'means': []}"
      ]
     },
     "execution_count": 31,
     "metadata": {},
     "output_type": "execute_result"
    },
    {
     "data": {
      "image/png": "[encoded data removed]",
      "text/plain": [
       "<Figure size 432x288 with 1 Axes>"
      ]
     },
     "metadata": {
      "needs_background": "light"
     },
     "output_type": "display_data"
    }
   ],
   "source": [
    "plt.boxplot(file2[\"Mg\"])"
   ]
  },
  {
   "cell_type": "code",
   "execution_count": 32,
   "metadata": {},
   "outputs": [],
   "source": [
    "naive_file=file2\n",
    "labels = naive_file['Type'].values\n",
    "data_naive = naive_file.drop(columns=['Type'])"
   ]
  },
  {
   "cell_type": "code",
   "execution_count": 33,
   "metadata": {},
   "outputs": [
    {
     "name": "stdout",
     "output_type": "stream",
     "text": [
      "x_train shape is  (145, 9)\n",
      "x_test shape is  (63, 9)\n",
      "y_train shape is  (145,)\n",
      "y_test shape is  (63,)\n"
     ]
    }
   ],
   "source": [
    "#Split the data and label to train and test sets\n",
    "(x_train,x_test,y_train,y_test)=train_test_split(data_naive,labels,test_size=0.3,random_state=1)\n",
    "\n",
    "print('x_train shape is ' , x_train.shape)\n",
    "print('x_test shape is ' , x_test.shape)\n",
    "print('y_train shape is ' , y_train.shape)\n",
    "print('y_test shape is ' , y_test.shape)"
   ]
  },
  {
   "cell_type": "code",
   "execution_count": 34,
   "metadata": {},
   "outputs": [
    {
     "name": "stdout",
     "output_type": "stream",
     "text": [
      "Predicted Value for naive bayes is :  [1 1 1 1 6 6 2 5 5 1 6 1 1 6 1 1 7 2 6 7 1 1 7 7 1 1 7 1 7 1 1 1 5 6 1 1 1\n",
      " 7 1 1 7 5 1 2 1 5 1 1 1 3 1 1 1 7 5 1 6 1 1 1 1 1 1]\n"
     ]
    }
   ],
   "source": [
    "#Apply the Naive-Bayes algorithm\n",
    "bayes=GaussianNB()\n",
    "#Fit the training data with the training label\n",
    "bayes_fit=bayes.fit(x_train,y_train)\n",
    "#predict the test data set\n",
    "predict=bayes.predict(x_test)\n",
    "print('Predicted Value for naive bayes is : ' , predict)"
   ]
  },
  {
   "cell_type": "code",
   "execution_count": 35,
   "metadata": {},
   "outputs": [
    {
     "data": {
      "text/html": [
       "<div>\n",
       "<style scoped>\n",
       "    .dataframe tbody tr th:only-of-type {\n",
       "        vertical-align: middle;\n",
       "    }\n",
       "\n",
       "    .dataframe tbody tr th {\n",
       "        vertical-align: top;\n",
       "    }\n",
       "\n",
       "    .dataframe thead th {\n",
       "        text-align: right;\n",
       "    }\n",
       "</style>\n",
       "<table border=\"1\" class=\"dataframe\">\n",
       "  <thead>\n",
       "    <tr style=\"text-align: right;\">\n",
       "      <th></th>\n",
       "      <th>RI</th>\n",
       "      <th>Na</th>\n",
       "      <th>Mg</th>\n",
       "      <th>Al</th>\n",
       "      <th>Si</th>\n",
       "      <th>K</th>\n",
       "      <th>Ca</th>\n",
       "      <th>Ba</th>\n",
       "      <th>Fe</th>\n",
       "      <th>class</th>\n",
       "    </tr>\n",
       "  </thead>\n",
       "  <tbody>\n",
       "    <tr>\n",
       "      <th>188</th>\n",
       "      <td>1.51629</td>\n",
       "      <td>12.71</td>\n",
       "      <td>3.33</td>\n",
       "      <td>1.49</td>\n",
       "      <td>73.28</td>\n",
       "      <td>0.67</td>\n",
       "      <td>8.24</td>\n",
       "      <td>0.0</td>\n",
       "      <td>0.00</td>\n",
       "      <td>1</td>\n",
       "    </tr>\n",
       "    <tr>\n",
       "      <th>157</th>\n",
       "      <td>1.51663</td>\n",
       "      <td>12.93</td>\n",
       "      <td>3.54</td>\n",
       "      <td>1.62</td>\n",
       "      <td>72.96</td>\n",
       "      <td>0.64</td>\n",
       "      <td>8.03</td>\n",
       "      <td>0.0</td>\n",
       "      <td>0.21</td>\n",
       "      <td>1</td>\n",
       "    </tr>\n",
       "    <tr>\n",
       "      <th>167</th>\n",
       "      <td>1.51592</td>\n",
       "      <td>12.86</td>\n",
       "      <td>3.52</td>\n",
       "      <td>2.12</td>\n",
       "      <td>72.66</td>\n",
       "      <td>0.69</td>\n",
       "      <td>7.97</td>\n",
       "      <td>0.0</td>\n",
       "      <td>0.00</td>\n",
       "      <td>1</td>\n",
       "    </tr>\n",
       "    <tr>\n",
       "      <th>203</th>\n",
       "      <td>1.51743</td>\n",
       "      <td>12.20</td>\n",
       "      <td>3.25</td>\n",
       "      <td>1.16</td>\n",
       "      <td>73.55</td>\n",
       "      <td>0.62</td>\n",
       "      <td>8.90</td>\n",
       "      <td>0.0</td>\n",
       "      <td>0.24</td>\n",
       "      <td>1</td>\n",
       "    </tr>\n",
       "    <tr>\n",
       "      <th>60</th>\n",
       "      <td>1.51818</td>\n",
       "      <td>13.72</td>\n",
       "      <td>0.00</td>\n",
       "      <td>0.56</td>\n",
       "      <td>74.45</td>\n",
       "      <td>0.00</td>\n",
       "      <td>10.99</td>\n",
       "      <td>0.0</td>\n",
       "      <td>0.00</td>\n",
       "      <td>6</td>\n",
       "    </tr>\n",
       "    <tr>\n",
       "      <th>...</th>\n",
       "      <td>...</td>\n",
       "      <td>...</td>\n",
       "      <td>...</td>\n",
       "      <td>...</td>\n",
       "      <td>...</td>\n",
       "      <td>...</td>\n",
       "      <td>...</td>\n",
       "      <td>...</td>\n",
       "      <td>...</td>\n",
       "      <td>...</td>\n",
       "    </tr>\n",
       "    <tr>\n",
       "      <th>90</th>\n",
       "      <td>1.51846</td>\n",
       "      <td>13.41</td>\n",
       "      <td>3.89</td>\n",
       "      <td>1.33</td>\n",
       "      <td>72.38</td>\n",
       "      <td>0.51</td>\n",
       "      <td>8.28</td>\n",
       "      <td>0.0</td>\n",
       "      <td>0.00</td>\n",
       "      <td>1</td>\n",
       "    </tr>\n",
       "    <tr>\n",
       "      <th>41</th>\n",
       "      <td>1.52121</td>\n",
       "      <td>14.03</td>\n",
       "      <td>3.76</td>\n",
       "      <td>0.58</td>\n",
       "      <td>71.79</td>\n",
       "      <td>0.11</td>\n",
       "      <td>9.65</td>\n",
       "      <td>0.0</td>\n",
       "      <td>0.00</td>\n",
       "      <td>1</td>\n",
       "    </tr>\n",
       "    <tr>\n",
       "      <th>116</th>\n",
       "      <td>1.51687</td>\n",
       "      <td>13.23</td>\n",
       "      <td>3.54</td>\n",
       "      <td>1.48</td>\n",
       "      <td>72.84</td>\n",
       "      <td>0.56</td>\n",
       "      <td>8.10</td>\n",
       "      <td>0.0</td>\n",
       "      <td>0.00</td>\n",
       "      <td>1</td>\n",
       "    </tr>\n",
       "    <tr>\n",
       "      <th>134</th>\n",
       "      <td>1.51593</td>\n",
       "      <td>13.09</td>\n",
       "      <td>3.59</td>\n",
       "      <td>1.52</td>\n",
       "      <td>73.10</td>\n",
       "      <td>0.67</td>\n",
       "      <td>7.83</td>\n",
       "      <td>0.0</td>\n",
       "      <td>0.00</td>\n",
       "      <td>1</td>\n",
       "    </tr>\n",
       "    <tr>\n",
       "      <th>58</th>\n",
       "      <td>1.52210</td>\n",
       "      <td>13.73</td>\n",
       "      <td>3.84</td>\n",
       "      <td>0.72</td>\n",
       "      <td>71.76</td>\n",
       "      <td>0.17</td>\n",
       "      <td>9.74</td>\n",
       "      <td>0.0</td>\n",
       "      <td>0.00</td>\n",
       "      <td>1</td>\n",
       "    </tr>\n",
       "  </tbody>\n",
       "</table>\n",
       "<p>63 rows × 10 columns</p>\n",
       "</div>"
      ],
      "text/plain": [
       "          RI     Na    Mg    Al     Si     K     Ca   Ba    Fe  class\n",
       "188  1.51629  12.71  3.33  1.49  73.28  0.67   8.24  0.0  0.00      1\n",
       "157  1.51663  12.93  3.54  1.62  72.96  0.64   8.03  0.0  0.21      1\n",
       "167  1.51592  12.86  3.52  2.12  72.66  0.69   7.97  0.0  0.00      1\n",
       "203  1.51743  12.20  3.25  1.16  73.55  0.62   8.90  0.0  0.24      1\n",
       "60   1.51818  13.72  0.00  0.56  74.45  0.00  10.99  0.0  0.00      6\n",
       "..       ...    ...   ...   ...    ...   ...    ...  ...   ...    ...\n",
       "90   1.51846  13.41  3.89  1.33  72.38  0.51   8.28  0.0  0.00      1\n",
       "41   1.52121  14.03  3.76  0.58  71.79  0.11   9.65  0.0  0.00      1\n",
       "116  1.51687  13.23  3.54  1.48  72.84  0.56   8.10  0.0  0.00      1\n",
       "134  1.51593  13.09  3.59  1.52  73.10  0.67   7.83  0.0  0.00      1\n",
       "58   1.52210  13.73  3.84  0.72  71.76  0.17   9.74  0.0  0.00      1\n",
       "\n",
       "[63 rows x 10 columns]"
      ]
     },
     "execution_count": 35,
     "metadata": {},
     "output_type": "execute_result"
    }
   ],
   "source": [
    "#Assign the labels to the tested data\n",
    "show=pd.DataFrame(x_test)\n",
    "show[\"class\"]=predict\n",
    "show"
   ]
  },
  {
   "cell_type": "code",
   "execution_count": 36,
   "metadata": {},
   "outputs": [
    {
     "name": "stdout",
     "output_type": "stream",
     "text": [
      "The accuracy of our naive Bayes model is  57 %\n"
     ]
    }
   ],
   "source": [
    "#Calculate the accuracy\n",
    "acc=bayes.score(x_train,y_train)\n",
    "acc=acc*100\n",
    "print(\"The accuracy of our naive Bayes model is \",int(acc),\"%\")"
   ]
  },
  {
   "cell_type": "code",
   "execution_count": 37,
   "metadata": {},
   "outputs": [
    {
     "data": {
      "text/plain": [
       "(array([37.,  3.,  0.,  1.,  0.,  0.,  6.,  0.,  7.,  9.]),\n",
       " array([1. , 1.6, 2.2, 2.8, 3.4, 4. , 4.6, 5.2, 5.8, 6.4, 7. ]),\n",
       " <BarContainer object of 10 artists>)"
      ]
     },
     "execution_count": 37,
     "metadata": {},
     "output_type": "execute_result"
    },
    {
     "data": {
      "image/png": "[encoded data removed]",
      "text/plain": [
       "<Figure size 432x288 with 1 Axes>"
      ]
     },
     "metadata": {
      "needs_background": "light"
     },
     "output_type": "display_data"
    }
   ],
   "source": [
    "#histogram to show the distribution of the predicted data in the class labels\n",
    "plt.hist(predict)"
   ]
  },
  {
   "cell_type": "code",
   "execution_count": 38,
   "metadata": {},
   "outputs": [
    {
     "data": {
      "text/plain": [
       "{'whiskers': [<matplotlib.lines.Line2D at 0x2f5df6be280>,\n",
       "  <matplotlib.lines.Line2D at 0x2f5df6be610>],\n",
       " 'caps': [<matplotlib.lines.Line2D at 0x2f5df6be9a0>,\n",
       "  <matplotlib.lines.Line2D at 0x2f5df6bed30>],\n",
       " 'boxes': [<matplotlib.lines.Line2D at 0x2f5df6aeeb0>],\n",
       " 'medians': [<matplotlib.lines.Line2D at 0x2f5df6c9100>],\n",
       " 'fliers': [<matplotlib.lines.Line2D at 0x2f5df6c9490>],\n",
       " 'means': []}"
      ]
     },
     "execution_count": 38,
     "metadata": {},
     "output_type": "execute_result"
    },
    {
     "data": {
      "image/png": "[encoded data removed]",
      "text/plain": [
       "<Figure size 432x288 with 1 Axes>"
      ]
     },
     "metadata": {
      "needs_background": "light"
     },
     "output_type": "display_data"
    }
   ],
   "source": [
    "# Box plot for the predicted data labels\n",
    "plt.boxplot(predict)"
   ]
  },
  {
   "cell_type": "code",
   "execution_count": 39,
   "metadata": {},
   "outputs": [
    {
     "name": "stdout",
     "output_type": "stream",
     "text": [
      "Confusion Matrix is : \n",
      " [[15  0  0  0  1  1]\n",
      " [19  2  1  3  2  1]\n",
      " [ 3  0  0  0  0  0]\n",
      " [ 0  1  0  3  0  1]\n",
      " [ 0  0  0  0  4  0]\n",
      " [ 0  0  0  0  0  6]]\n"
     ]
    },
    {
     "data": {
      "image/png": "[encoded data removed]",
      "text/plain": [
       "<Figure size 432x288 with 2 Axes>"
      ]
     },
     "metadata": {
      "needs_background": "light"
     },
     "output_type": "display_data"
    }
   ],
   "source": [
    "#Calculating Confusion Matrix\n",
    "CM = confusion_matrix(y_test, predict)\n",
    "print('Confusion Matrix is : \\n', CM)\n",
    "\n",
    "# drawing confusion matrix\n",
    "sns.heatmap(CM)\n",
    "plt.show()"
   ]
  },
  {
   "cell_type": "markdown",
   "metadata": {},
   "source": [
    "# <font color='red'>Comparison Between The 2 Clustring Algorithm</font>"
   ]
  },
  {
   "cell_type": "code",
   "execution_count": 40,
   "metadata": {},
   "outputs": [
    {
     "data": {
      "text/plain": [
       "<matplotlib.legend.Legend at 0x2f5df8b6730>"
      ]
     },
     "execution_count": 40,
     "metadata": {},
     "output_type": "execute_result"
    },
    {
     "data": {
      "image/png": "[encoded data removed]",
      "text/plain": [
       "<Figure size 432x288 with 1 Axes>"
      ]
     },
     "metadata": {
      "needs_background": "light"
     },
     "output_type": "display_data"
    }
   ],
   "source": [
    "#histogram to show the frequently of each cluster \n",
    "plt.hist(cluster_Hierarchical,color=\"blue\")\n",
    "plt.hist(cluster_Medoids,color=\"red\")\n",
    "plt.xlabel(\"cluster\")\n",
    "plt.ylabel(\"Frequency\")\n",
    "plt.legend(labels=['Hierarchical', 'K-Medoids'])"
   ]
  },
  {
   "cell_type": "code",
   "execution_count": 41,
   "metadata": {},
   "outputs": [
    {
     "data": {
      "text/plain": [
       "<matplotlib.legend.Legend at 0x2f5e0a9dac0>"
      ]
     },
     "execution_count": 41,
     "metadata": {},
     "output_type": "execute_result"
    },
    {
     "data": {
      "image/png": "[encoded data removed]",
      "text/plain": [
       "<Figure size 1440x432 with 1 Axes>"
      ]
     },
     "metadata": {
      "needs_background": "light"
     },
     "output_type": "display_data"
    }
   ],
   "source": [
    "# Bar plot show the cluster of each row of data\n",
    "plt.figure(figsize=(20,6))\n",
    "plt.bar(np.arange(1,175,1),cluster_Medoids)\n",
    "plt.bar(np.arange(1,175,1),cluster_Hierarchical)\n",
    "plt.xlabel(\"data-rows\")\n",
    "plt.ylabel(\"cluster\")\n",
    "plt.legend(labels=[' K-Medoids', 'Hierarchical'])"
   ]
  },
  {
   "cell_type": "code",
   "execution_count": null,
   "metadata": {},
   "outputs": [],
   "source": []
  },
  {
   "cell_type": "code",
   "execution_count": null,
   "metadata": {},
   "outputs": [],
   "source": []
  }
 ],
 "metadata": {
  "kernelspec": {
   "display_name": "Python 3 (ipykernel)",
   "language": "python",
   "name": "python3"
  },
  "language_info": {
   "codemirror_mode": {
    "name": "ipython",
    "version": 3
   },
   "file_extension": ".py",
   "mimetype": "text/x-python",
   "name": "python",
   "nbconvert_exporter": "python",
   "pygments_lexer": "ipython3",
   "version": "3.9.7"
  },
  "varInspector": {
   "cols": {
    "lenName": 16,
    "lenType": 16,
    "lenVar": 40
   },
   "kernels_config": {
    "python": {
     "delete_cmd_postfix": "",
     "delete_cmd_prefix": "del ",
     "library": "var_list.py",
     "varRefreshCmd": "print(var_dic_list())"
    },
    "r": {
     "delete_cmd_postfix": ") ",
     "delete_cmd_prefix": "rm(",
     "library": "var_list.r",
     "varRefreshCmd": "cat(var_dic_list()) "
    }
   },
   "types_to_exclude": [
    "module",
    "function",
    "builtin_function_or_method",
    "instance",
    "_Feature"
   ],
   "window_display": false
  }
 },
 "nbformat": 4,
 "nbformat_minor": 4
}
